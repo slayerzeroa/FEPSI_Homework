{
  "cells": [
    {
      "cell_type": "markdown",
      "metadata": {
        "id": "HvSyO-nVCZO4"
      },
      "source": [
        "### 파이썬 3주차: 함수"
      ]
    },
    {
      "cell_type": "markdown",
      "metadata": {
        "id": "wnjs5g_zCiTO"
      },
      "source": [
        "함수의 정의: 어떤 집합의 각 원소를 다른 어떤 집합의 유일한 원소에 대응시키는 이항 관계\n",
        "\n",
        "**파이썬에서의 함수: input 자료를 바탕으로 일련의 output을 return하는 것 (일반적인 목표)**"
      ]
    },
    {
      "cell_type": "code",
      "execution_count": 1,
      "metadata": {
        "id": "Wt5FaosyCWEv"
      },
      "outputs": [],
      "source": [
        "def add(a, b):\n",
        "  return a + b"
      ]
    },
    {
      "cell_type": "code",
      "execution_count": 2,
      "metadata": {
        "colab": {
          "base_uri": "https://localhost:8080/"
        },
        "id": "6y9JR7GwDPPU",
        "outputId": "5d5a8e8e-f681-4acc-aa12-a53bd08d97d9"
      },
      "outputs": [
        {
          "data": {
            "text/plain": [
              "3"
            ]
          },
          "execution_count": 2,
          "metadata": {},
          "output_type": "execute_result"
        }
      ],
      "source": [
        "add(1, 2)"
      ]
    },
    {
      "cell_type": "code",
      "execution_count": 3,
      "metadata": {
        "id": "jR0NB3IgDRdg"
      },
      "outputs": [],
      "source": [
        "def subtract(a, b):\n",
        "  return a - b"
      ]
    },
    {
      "cell_type": "code",
      "execution_count": 4,
      "metadata": {
        "colab": {
          "base_uri": "https://localhost:8080/"
        },
        "id": "YW7t-ZI8DbJO",
        "outputId": "b5eaea62-67fa-4526-ab89-81ed247b1544"
      },
      "outputs": [
        {
          "data": {
            "text/plain": [
              "2"
            ]
          },
          "execution_count": 4,
          "metadata": {},
          "output_type": "execute_result"
        }
      ],
      "source": [
        "subtract(4, 2)"
      ]
    },
    {
      "cell_type": "markdown",
      "metadata": {
        "id": "IU912fWrDi4y"
      },
      "source": [
        "### 함수의 문법\n",
        "def (함수명) (매개변수):\n",
        "\n",
        "&nbsp;&nbsp;&nbsp;&nbsp;&nbsp; (실행할 내용)"
      ]
    },
    {
      "cell_type": "code",
      "execution_count": 5,
      "metadata": {
        "colab": {
          "base_uri": "https://localhost:8080/"
        },
        "id": "-J9o7fhKDdTw",
        "outputId": "059a7a43-79c8-4dd7-8242-680b40be0dfe"
      },
      "outputs": [
        {
          "name": "stdout",
          "output_type": "stream",
          "text": [
            "None\n"
          ]
        }
      ],
      "source": [
        "# 문제 1: 아래 함수의 출력값은?\n",
        "def test1(a, b):\n",
        "  a + b\n",
        "\n",
        "print(test1(1, 2))"
      ]
    },
    {
      "cell_type": "code",
      "execution_count": null,
      "metadata": {
        "colab": {
          "base_uri": "https://localhost:8080/"
        },
        "id": "deIljOlEE11F",
        "outputId": "8bf288a3-b321-4280-ac1a-c59d529bfcac"
      },
      "outputs": [
        {
          "name": "stdout",
          "output_type": "stream",
          "text": [
            "3\n"
          ]
        }
      ],
      "source": [
        "# 문제 2: 아래 함수의 출력값은?\n",
        "def test2(a, b):\n",
        "  print(a + b)\n",
        "\n",
        "test2(1, 2)"
      ]
    },
    {
      "cell_type": "code",
      "execution_count": 7,
      "metadata": {},
      "outputs": [
        {
          "data": {
            "text/plain": [
              "3"
            ]
          },
          "execution_count": 7,
          "metadata": {},
          "output_type": "execute_result"
        }
      ],
      "source": [
        "# 문제 2-1: 아래 함수의 출력값은?\n",
        "def test2_1(a, b):\n",
        "  return (a + b)\n",
        "\n",
        "test2_1(1, 2)\n",
        "\n",
        "# 문제 3: 문제 2와 2-1의 함수들의 차이는 뭘까? -> 고민해보세요"
      ]
    },
    {
      "cell_type": "code",
      "execution_count": 9,
      "metadata": {
        "colab": {
          "base_uri": "https://localhost:8080/"
        },
        "id": "GrMYMjlCvysz",
        "outputId": "ce854b04-8b69-459c-8c11-676acd3bbafb"
      },
      "outputs": [
        {
          "data": {
            "text/plain": [
              "'너 T발 C야?'"
            ]
          },
          "execution_count": 9,
          "metadata": {},
          "output_type": "execute_result"
        }
      ],
      "source": [
        "# 함수에 매개변수가 없어도 된다\n",
        "def test3():\n",
        "  return '너 T발 C야?'\n",
        "\n",
        "test3()"
      ]
    },
    {
      "cell_type": "markdown",
      "metadata": {
        "id": "i9NExqQJIfxj"
      },
      "source": [
        "### Global과 Local의 차이\n",
        "\n",
        "전역변수: 코드 전체에서 사용되는 변수\n",
        "\n",
        "로컬 변수: 함수 내부에서만 사용되는 변수"
      ]
    },
    {
      "cell_type": "code",
      "execution_count": 13,
      "metadata": {
        "colab": {
          "base_uri": "https://localhost:8080/"
        },
        "id": "weAQOo_xIiSz",
        "outputId": "2a95d7ce-55f6-46d0-ebc9-44f6b84d676c"
      },
      "outputs": [
        {
          "name": "stdout",
          "output_type": "stream",
          "text": [
            "1\n",
            "1\n"
          ]
        }
      ],
      "source": [
        "# a => 전역변수\n",
        "a = 1\n",
        "def rtn_a ():\n",
        "  return a\n",
        "\n",
        "print(rtn_a())\n",
        "print(a)"
      ]
    },
    {
      "cell_type": "code",
      "execution_count": 12,
      "metadata": {
        "id": "s21nSTTHIzRF"
      },
      "outputs": [
        {
          "ename": "NameError",
          "evalue": "name 'b' is not defined",
          "output_type": "error",
          "traceback": [
            "\u001b[0;31m---------------------------------------------------------------------------\u001b[0m",
            "\u001b[0;31mNameError\u001b[0m                                 Traceback (most recent call last)",
            "Cell \u001b[0;32mIn[12], line 4\u001b[0m\n\u001b[1;32m      1\u001b[0m \u001b[39mdef\u001b[39;00m \u001b[39mrtn_b\u001b[39m ():\n\u001b[1;32m      2\u001b[0m   b \u001b[39m=\u001b[39m \u001b[39m1\u001b[39m\n\u001b[0;32m----> 4\u001b[0m \u001b[39mprint\u001b[39m(b) \u001b[39m#에러 발생\u001b[39;00m\n",
            "\u001b[0;31mNameError\u001b[0m: name 'b' is not defined"
          ]
        }
      ],
      "source": [
        "# b => 지역변수\n",
        "def rtn_b ():\n",
        "  b = 1\n",
        "\n",
        "print(b) #에러 발생"
      ]
    },
    {
      "cell_type": "code",
      "execution_count": 14,
      "metadata": {
        "colab": {
          "base_uri": "https://localhost:8080/"
        },
        "id": "-UoI2NT4N0K7",
        "outputId": "cd8e74aa-868a-438d-a8c0-d1a1d6d45957"
      },
      "outputs": [
        {
          "name": "stdout",
          "output_type": "stream",
          "text": [
            "1\n",
            "10\n"
          ]
        }
      ],
      "source": [
        "# 전역변수 a가 1 -> 10 재정의 된다\n",
        "a = 1\n",
        "print(a)\n",
        "\n",
        "def rtn_a():\n",
        "  a = 10\n",
        "  return a\n",
        "\n",
        "a = rtn_a()\n",
        "print(a)"
      ]
    },
    {
      "cell_type": "code",
      "execution_count": 15,
      "metadata": {
        "colab": {
          "base_uri": "https://localhost:8080/"
        },
        "id": "6Y4neZx-wxe0",
        "outputId": "b2c01650-2d43-495d-af71-fdb51ee61d7c"
      },
      "outputs": [
        {
          "name": "stdout",
          "output_type": "stream",
          "text": [
            "1\n",
            "10\n"
          ]
        }
      ],
      "source": [
        "a = 1\n",
        "print(a)\n",
        "\n",
        "def rtn_a():\n",
        "  a = 10\n",
        "  print(a)\n",
        "\n",
        "rtn_a()"
      ]
    },
    {
      "cell_type": "markdown",
      "metadata": {
        "id": "YBy5u31VIR35"
      },
      "source": [
        "### print와 return의 차이"
      ]
    },
    {
      "cell_type": "markdown",
      "metadata": {
        "id": "Y1oQMO2fIZwL"
      },
      "source": [
        "return은 함수 안에서만 사용됨 -> 함수 내부의 결과값을 함수 밖으로 내보내는 역할\n",
        "\n",
        "print는 출력 함수, 결과값을 내보내주지 못함"
      ]
    },
    {
      "cell_type": "code",
      "execution_count": 16,
      "metadata": {
        "colab": {
          "base_uri": "https://localhost:8080/",
          "height": 136
        },
        "id": "iCYZGYBOIVTA",
        "outputId": "20d36738-f4e4-4bc6-a59f-59ee6c7e785b"
      },
      "outputs": [
        {
          "ename": "SyntaxError",
          "evalue": "'return' outside function (467879276.py, line 1)",
          "output_type": "error",
          "traceback": [
            "\u001b[0;36m  Cell \u001b[0;32mIn[16], line 1\u001b[0;36m\u001b[0m\n\u001b[0;31m    return 1\u001b[0m\n\u001b[0m    ^\u001b[0m\n\u001b[0;31mSyntaxError\u001b[0m\u001b[0;31m:\u001b[0m 'return' outside function\n"
          ]
        }
      ],
      "source": [
        "return 1"
      ]
    },
    {
      "cell_type": "code",
      "execution_count": 17,
      "metadata": {
        "id": "01EKxdEYIYLN"
      },
      "outputs": [],
      "source": [
        "def printing (a, b):\n",
        "  print(a + b)\n",
        "\n",
        "def returning (a, b):\n",
        "  return a + b"
      ]
    },
    {
      "cell_type": "code",
      "execution_count": 19,
      "metadata": {
        "colab": {
          "base_uri": "https://localhost:8080/"
        },
        "id": "K3l_Gbr1JaPw",
        "outputId": "54668fe8-0e99-433b-b4dd-7fba86605479"
      },
      "outputs": [
        {
          "name": "stdout",
          "output_type": "stream",
          "text": [
            "3\n",
            "None\n"
          ]
        }
      ],
      "source": [
        "printing_result = printing(1, 2)\n",
        "print(printing_result) # None 출력"
      ]
    },
    {
      "cell_type": "code",
      "execution_count": 20,
      "metadata": {
        "colab": {
          "base_uri": "https://localhost:8080/"
        },
        "id": "C2dHtrsaJfr_",
        "outputId": "cc0c5633-a878-427c-bbd1-0d44b9617db6"
      },
      "outputs": [
        {
          "name": "stdout",
          "output_type": "stream",
          "text": [
            "3\n"
          ]
        }
      ],
      "source": [
        "returning_result = returning(1, 2)\n",
        "print(returning_result) # 3 출력"
      ]
    },
    {
      "cell_type": "markdown",
      "metadata": {
        "id": "TVb_LFGMK7_9"
      },
      "source": [
        "여러 변수를 return 해줄 수 있다"
      ]
    },
    {
      "cell_type": "code",
      "execution_count": 21,
      "metadata": {
        "colab": {
          "base_uri": "https://localhost:8080/"
        },
        "id": "4gv0NVpoK-E6",
        "outputId": "3f123a77-a621-4ead-bf58-7feea7797db3"
      },
      "outputs": [
        {
          "name": "stdout",
          "output_type": "stream",
          "text": [
            "add is 14\n",
            "subtract is 6\n",
            "multiple is 40\n"
          ]
        }
      ],
      "source": [
        "def multi_return (a, b):\n",
        "  return a+b, a-b, a*b\n",
        "\n",
        "add, subtract, multiple = multi_return(10, 4)\n",
        "\n",
        "print(f\"add is {add}\")\n",
        "print(f\"subtract is {subtract}\")\n",
        "print(f\"multiple is {multiple}\")"
      ]
    },
    {
      "cell_type": "code",
      "execution_count": 22,
      "metadata": {
        "colab": {
          "base_uri": "https://localhost:8080/"
        },
        "id": "VPo3bmaqLVHU",
        "outputId": "035d07b4-5e90-4045-b183-927d237ba562"
      },
      "outputs": [
        {
          "name": "stdout",
          "output_type": "stream",
          "text": [
            "14\n",
            "6\n",
            "40\n"
          ]
        }
      ],
      "source": [
        "print(add)\n",
        "print(subtract)\n",
        "print(multiple)"
      ]
    },
    {
      "cell_type": "markdown",
      "metadata": {
        "id": "wJ4o_2gLLlHP"
      },
      "source": [
        "### 입력 값이 몇 개가 될 지 모를 때\n",
        "입력 값의 개수가 정해져 있지 않다면?\n",
        "\n",
        "*args를 이용하자\n",
        "\n",
        "이해 난이도 높음"
      ]
    },
    {
      "cell_type": "code",
      "execution_count": 23,
      "metadata": {
        "colab": {
          "base_uri": "https://localhost:8080/"
        },
        "id": "LxUev34fL0D4",
        "outputId": "23281dcf-b765-4e88-d3d1-0dda8da7ae73"
      },
      "outputs": [
        {
          "name": "stdout",
          "output_type": "stream",
          "text": [
            "8\n",
            "10\n"
          ]
        }
      ],
      "source": [
        "# 입력값의 개수를 세는 함수를 만들고 싶다면\n",
        "\n",
        "def counting (*args):\n",
        "  count = 0\n",
        "  for i in args:\n",
        "    count = count + 1\n",
        "  return count\n",
        "\n",
        "\n",
        "print(counting(0,0,0,0,0,0,0,0))\n",
        "print(counting(1,3,21,421,4,214,21,4,214,12))"
      ]
    },
    {
      "cell_type": "code",
      "execution_count": 24,
      "metadata": {
        "colab": {
          "base_uri": "https://localhost:8080/"
        },
        "id": "CrfJb04PyipP",
        "outputId": "1be9a6b5-5444-440b-b18c-0b7956c7a695"
      },
      "outputs": [
        {
          "name": "stdout",
          "output_type": "stream",
          "text": [
            "(1, 2, 3, 4)\n"
          ]
        }
      ],
      "source": [
        "def show_args(*args):\n",
        "  return (args)\n",
        "\n",
        "print(show_args(1, 2, 3, 4))"
      ]
    },
    {
      "cell_type": "code",
      "execution_count": 25,
      "metadata": {
        "colab": {
          "base_uri": "https://localhost:8080/"
        },
        "id": "jfL8a52lMPFV",
        "outputId": "35523e0c-f032-4cea-cc9b-d0cf5af9a436"
      },
      "outputs": [
        {
          "name": "stdout",
          "output_type": "stream",
          "text": [
            "15\n",
            "54\n"
          ]
        }
      ],
      "source": [
        "# 입력값을 모두 더하는 함수를 만들고 싶다면\n",
        "\n",
        "def adding (*args):\n",
        "  result = 0\n",
        "  for i in args:\n",
        "    result += i\n",
        "  return result\n",
        "\n",
        "print(adding(1,2,3,4,5))\n",
        "print(adding(3,2,2,2,2,2,2,2,21,1,6,9))"
      ]
    },
    {
      "cell_type": "markdown",
      "metadata": {
        "id": "4OjwWAEjMv3n"
      },
      "source": [
        "### 함수의 매개변수 지정\n",
        "미리 함수의 매개변수를 지정하거나\n",
        "\n",
        "인수를 특정 매개변수로 지정가능"
      ]
    },
    {
      "cell_type": "code",
      "execution_count": 26,
      "metadata": {
        "colab": {
          "base_uri": "https://localhost:8080/"
        },
        "id": "d3iX7ZAKM8WW",
        "outputId": "bf3edfde-4c93-4a97-947c-7385edec5c99"
      },
      "outputs": [
        {
          "name": "stdout",
          "output_type": "stream",
          "text": [
            "8\n",
            "16\n"
          ]
        }
      ],
      "source": [
        "def adding (a, b=3):\n",
        "  return a + b\n",
        "\n",
        "\n",
        "print(adding(5))\n",
        "print(adding(6, 10))"
      ]
    },
    {
      "cell_type": "code",
      "execution_count": 27,
      "metadata": {
        "colab": {
          "base_uri": "https://localhost:8080/"
        },
        "id": "QtEmkjBTNbtb",
        "outputId": "66ac95a2-ef22-483b-8539-6172d24ac4b7"
      },
      "outputs": [
        {
          "name": "stdout",
          "output_type": "stream",
          "text": [
            "4\n",
            "-4\n"
          ]
        }
      ],
      "source": [
        "def subtract (a, b):\n",
        "  return a - b\n",
        "\n",
        "\n",
        "print(subtract(5, 1))\n",
        "print(subtract(b=5, a=1))"
      ]
    },
    {
      "cell_type": "markdown",
      "metadata": {
        "id": "kubO5FWCOF08"
      },
      "source": [
        "### 임의 함수 lambda\n",
        "함수명 = lambda 매개변수1, 매개변수2, ... : 매개변수를 이용한 표현식\n",
        "\n",
        "def 사용하지 않아도 될 정도로 간단하거나 def를 사용할 수 없는 곳에 사용"
      ]
    },
    {
      "cell_type": "code",
      "execution_count": 28,
      "metadata": {
        "colab": {
          "base_uri": "https://localhost:8080/"
        },
        "id": "gpJm1DQWOJm0",
        "outputId": "1846437a-8adf-48b2-845c-1d7714639752"
      },
      "outputs": [
        {
          "name": "stdout",
          "output_type": "stream",
          "text": [
            "3\n"
          ]
        }
      ],
      "source": [
        "adding = lambda a, b: a + b\n",
        "\n",
        "print(adding(1, 2))"
      ]
    },
    {
      "cell_type": "markdown",
      "metadata": {
        "id": "yq8yl5_WOfxg"
      },
      "source": [
        "lambda로 만든 함수는 return 명령어가 없어도 결과값을 리턴"
      ]
    },
    {
      "cell_type": "code",
      "execution_count": 29,
      "metadata": {
        "id": "4TrjmzpbObL6"
      },
      "outputs": [],
      "source": [
        "args_adding = lambda *args: sum(args)"
      ]
    },
    {
      "cell_type": "code",
      "execution_count": 30,
      "metadata": {
        "colab": {
          "base_uri": "https://localhost:8080/"
        },
        "id": "q2lpKyNxPFwm",
        "outputId": "2108b39a-7ecd-41a8-e336-0691822b209d"
      },
      "outputs": [
        {
          "name": "stdout",
          "output_type": "stream",
          "text": [
            "1212\n"
          ]
        }
      ],
      "source": [
        "print(args_adding(1,23,3,4,4,5,2,523,53,25,32,532,5))"
      ]
    },
    {
      "cell_type": "markdown",
      "metadata": {
        "id": "KfGbIZ5udemn"
      },
      "source": [
        "# 백준 문제 풀이\n",
        "정수 N개의 합 [15596] : https://www.acmicpc.net/problem/15596\n",
        "\n",
        "셀프 넘버 [4673] : https://www.acmicpc.net/problem/4673\n"
      ]
    },
    {
      "cell_type": "code",
      "execution_count": 31,
      "metadata": {},
      "outputs": [],
      "source": [
        "# [15596] 풀이 과정"
      ]
    },
    {
      "cell_type": "code",
      "execution_count": 32,
      "metadata": {},
      "outputs": [],
      "source": [
        "# [4673] 풀이 과정"
      ]
    },
    {
      "cell_type": "code",
      "execution_count": null,
      "metadata": {},
      "outputs": [],
      "source": []
    }
  ],
  "metadata": {
    "colab": {
      "provenance": []
    },
    "kernelspec": {
      "display_name": "Python 3",
      "name": "python3"
    },
    "language_info": {
      "codemirror_mode": {
        "name": "ipython",
        "version": 3
      },
      "file_extension": ".py",
      "mimetype": "text/x-python",
      "name": "python",
      "nbconvert_exporter": "python",
      "pygments_lexer": "ipython3",
      "version": "3.10.8"
    }
  },
  "nbformat": 4,
  "nbformat_minor": 0
}
