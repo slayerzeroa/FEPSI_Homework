{
  "nbformat": 4,
  "nbformat_minor": 0,
  "metadata": {
    "colab": {
      "provenance": []
    },
    "kernelspec": {
      "name": "python3",
      "display_name": "Python 3"
    },
    "language_info": {
      "name": "python"
    }
  },
  "cells": [
    {
      "cell_type": "markdown",
      "source": [
        "#파이썬 3주차: 함수"
      ],
      "metadata": {
        "id": "HvSyO-nVCZO4"
      }
    },
    {
      "cell_type": "markdown",
      "source": [
        "함수의 정의: 어떤 집합의 각 원소를 다른 어떤 집합의 유일한 원소에 대응시키는 이항 관계\n",
        "\n",
        "**파이썬에서의 함수: input 자료를 바탕으로 일련의 output을 return하는 것 (일반적인 목표)**"
      ],
      "metadata": {
        "id": "wnjs5g_zCiTO"
      }
    },
    {
      "cell_type": "code",
      "execution_count": null,
      "metadata": {
        "id": "Wt5FaosyCWEv"
      },
      "outputs": [],
      "source": [
        "def add(a, b):\n",
        "  return a + b"
      ]
    },
    {
      "cell_type": "code",
      "source": [
        "add(1, 2)"
      ],
      "metadata": {
        "colab": {
          "base_uri": "https://localhost:8080/"
        },
        "id": "6y9JR7GwDPPU",
        "outputId": "5d5a8e8e-f681-4acc-aa12-a53bd08d97d9"
      },
      "execution_count": null,
      "outputs": [
        {
          "output_type": "execute_result",
          "data": {
            "text/plain": [
              "3"
            ]
          },
          "metadata": {},
          "execution_count": 2
        }
      ]
    },
    {
      "cell_type": "code",
      "source": [
        "def subtract(a, b):\n",
        "  return a - b"
      ],
      "metadata": {
        "id": "jR0NB3IgDRdg"
      },
      "execution_count": null,
      "outputs": []
    },
    {
      "cell_type": "code",
      "source": [
        "subtract(4, 2)"
      ],
      "metadata": {
        "colab": {
          "base_uri": "https://localhost:8080/"
        },
        "id": "YW7t-ZI8DbJO",
        "outputId": "b5eaea62-67fa-4526-ab89-81ed247b1544"
      },
      "execution_count": null,
      "outputs": [
        {
          "output_type": "execute_result",
          "data": {
            "text/plain": [
              "2"
            ]
          },
          "metadata": {},
          "execution_count": 4
        }
      ]
    },
    {
      "cell_type": "markdown",
      "source": [
        "# 함수의 문법\n",
        "def (함수명) (매개변수):\n",
        "\n",
        "&nbsp;&nbsp;&nbsp;&nbsp;&nbsp; (실행할 내용)"
      ],
      "metadata": {
        "id": "IU912fWrDi4y"
      }
    },
    {
      "cell_type": "code",
      "source": [
        "# 문제 1: 아래 함수의 출력값은?\n",
        "def test1(a, b):\n",
        "  a + b\n",
        "\n",
        "print(test1(1, 2))"
      ],
      "metadata": {
        "id": "-J9o7fhKDdTw",
        "colab": {
          "base_uri": "https://localhost:8080/"
        },
        "outputId": "059a7a43-79c8-4dd7-8242-680b40be0dfe"
      },
      "execution_count": null,
      "outputs": [
        {
          "output_type": "stream",
          "name": "stdout",
          "text": [
            "None\n"
          ]
        }
      ]
    },
    {
      "cell_type": "code",
      "source": [
        "# 문제 2: 아래 함수의 출력값은?\n",
        "def test2(a, b):\n",
        "  print(a + b)\n",
        "  # return a + b\n",
        "\n",
        "test2(1, 2)"
      ],
      "metadata": {
        "colab": {
          "base_uri": "https://localhost:8080/"
        },
        "id": "deIljOlEE11F",
        "outputId": "8bf288a3-b321-4280-ac1a-c59d529bfcac"
      },
      "execution_count": null,
      "outputs": [
        {
          "output_type": "stream",
          "name": "stdout",
          "text": [
            "3\n"
          ]
        }
      ]
    },
    {
      "cell_type": "code",
      "source": [
        "def test3():\n",
        "  return '유대명'\n",
        "\n",
        "test3()"
      ],
      "metadata": {
        "colab": {
          "base_uri": "https://localhost:8080/"
        },
        "id": "GrMYMjlCvysz",
        "outputId": "ce854b04-8b69-459c-8c11-676acd3bbafb"
      },
      "execution_count": null,
      "outputs": [
        {
          "output_type": "stream",
          "name": "stdout",
          "text": [
            "유대명\n"
          ]
        }
      ]
    },
    {
      "cell_type": "markdown",
      "source": [
        "#Global과 Local의 차이\n",
        "\n",
        "전역변수는 코드 전체에서 사용되는 변수\n",
        "\n",
        "반면 로컬 변수는 함수 내부에서만 사용되는 변수"
      ],
      "metadata": {
        "id": "i9NExqQJIfxj"
      }
    },
    {
      "cell_type": "code",
      "source": [
        "a = 1\n",
        "def rtn_a ():\n",
        "  return a\n",
        "\n",
        "print(rtn_a())"
      ],
      "metadata": {
        "colab": {
          "base_uri": "https://localhost:8080/"
        },
        "id": "weAQOo_xIiSz",
        "outputId": "2a95d7ce-55f6-46d0-ebc9-44f6b84d676c"
      },
      "execution_count": null,
      "outputs": [
        {
          "output_type": "stream",
          "name": "stdout",
          "text": [
            "1\n"
          ]
        }
      ]
    },
    {
      "cell_type": "code",
      "source": [
        "def rtn_b ():\n",
        "  b = 1\n",
        "\n",
        "print(b)"
      ],
      "metadata": {
        "id": "s21nSTTHIzRF"
      },
      "execution_count": null,
      "outputs": []
    },
    {
      "cell_type": "code",
      "source": [
        "a = 1\n",
        "print(a)\n",
        "\n",
        "def rtn_a():\n",
        "  a = 10\n",
        "  return a\n",
        "\n",
        "a = rtn_a()\n",
        "print(a)"
      ],
      "metadata": {
        "colab": {
          "base_uri": "https://localhost:8080/"
        },
        "id": "-UoI2NT4N0K7",
        "outputId": "cd8e74aa-868a-438d-a8c0-d1a1d6d45957"
      },
      "execution_count": null,
      "outputs": [
        {
          "output_type": "stream",
          "name": "stdout",
          "text": [
            "1\n",
            "10\n"
          ]
        }
      ]
    },
    {
      "cell_type": "code",
      "source": [
        "a = 1\n",
        "print(a)\n",
        "\n",
        "def rtn_a():\n",
        "  a = 10\n",
        "  print(a)\n",
        "\n",
        "rtn_a()"
      ],
      "metadata": {
        "colab": {
          "base_uri": "https://localhost:8080/"
        },
        "id": "6Y4neZx-wxe0",
        "outputId": "b2c01650-2d43-495d-af71-fdb51ee61d7c"
      },
      "execution_count": null,
      "outputs": [
        {
          "output_type": "stream",
          "name": "stdout",
          "text": [
            "1\n",
            "10\n"
          ]
        }
      ]
    },
    {
      "cell_type": "markdown",
      "source": [
        "# print와 return의 차이"
      ],
      "metadata": {
        "id": "YBy5u31VIR35"
      }
    },
    {
      "cell_type": "markdown",
      "source": [
        "return은 함수 안에서만 사용됨 -> 함수 내부의 결과값을 함수 밖으로 내보내는 역할\n",
        "\n",
        "print는 출력 함수, 결과값을 내보내주지 못함"
      ],
      "metadata": {
        "id": "Y1oQMO2fIZwL"
      }
    },
    {
      "cell_type": "code",
      "source": [
        "return 1"
      ],
      "metadata": {
        "colab": {
          "base_uri": "https://localhost:8080/",
          "height": 136
        },
        "id": "iCYZGYBOIVTA",
        "outputId": "20d36738-f4e4-4bc6-a59f-59ee6c7e785b"
      },
      "execution_count": null,
      "outputs": [
        {
          "output_type": "error",
          "ename": "SyntaxError",
          "evalue": "ignored",
          "traceback": [
            "\u001b[0;36m  File \u001b[0;32m\"<ipython-input-4-48df9b519ca1>\"\u001b[0;36m, line \u001b[0;32m1\u001b[0m\n\u001b[0;31m    return 1\u001b[0m\n\u001b[0m    ^\u001b[0m\n\u001b[0;31mSyntaxError\u001b[0m\u001b[0;31m:\u001b[0m 'return' outside function\n"
          ]
        }
      ]
    },
    {
      "cell_type": "code",
      "source": [
        "def printing (a, b):\n",
        "  print(a + b)\n",
        "\n",
        "def returning (a, b):\n",
        "  return a + b"
      ],
      "metadata": {
        "id": "01EKxdEYIYLN"
      },
      "execution_count": null,
      "outputs": []
    },
    {
      "cell_type": "code",
      "source": [
        "printing_result = printing(1, 2)\n",
        "print(printing_result)"
      ],
      "metadata": {
        "colab": {
          "base_uri": "https://localhost:8080/"
        },
        "id": "K3l_Gbr1JaPw",
        "outputId": "54668fe8-0e99-433b-b4dd-7fba86605479"
      },
      "execution_count": null,
      "outputs": [
        {
          "output_type": "stream",
          "name": "stdout",
          "text": [
            "3\n",
            "None\n"
          ]
        }
      ]
    },
    {
      "cell_type": "code",
      "source": [
        "returning_result = returning(1, 2)\n",
        "print(returning_result)"
      ],
      "metadata": {
        "colab": {
          "base_uri": "https://localhost:8080/"
        },
        "id": "C2dHtrsaJfr_",
        "outputId": "cc0c5633-a878-427c-bbd1-0d44b9617db6"
      },
      "execution_count": null,
      "outputs": [
        {
          "output_type": "stream",
          "name": "stdout",
          "text": [
            "3\n"
          ]
        }
      ]
    },
    {
      "cell_type": "markdown",
      "source": [
        "여러 변수를 return 해줄 수 있다"
      ],
      "metadata": {
        "id": "TVb_LFGMK7_9"
      }
    },
    {
      "cell_type": "code",
      "source": [
        "def multi_return (a, b):\n",
        "  return a+b, a-b, a*b\n",
        "\n",
        "add, subtract, multiple = multi_return(10, 4)\n",
        "\n",
        "print(f\"add is {add}\")\n",
        "print(f\"subtract is {subtract}\")\n",
        "print(f\"multiple is {multiple}\")"
      ],
      "metadata": {
        "id": "4gv0NVpoK-E6",
        "colab": {
          "base_uri": "https://localhost:8080/"
        },
        "outputId": "3f123a77-a621-4ead-bf58-7feea7797db3"
      },
      "execution_count": null,
      "outputs": [
        {
          "output_type": "stream",
          "name": "stdout",
          "text": [
            "add is 14\n",
            "subtract is 6\n",
            "multiple is 40\n"
          ]
        }
      ]
    },
    {
      "cell_type": "code",
      "source": [
        "print(add)\n",
        "print(subtract)\n",
        "print(multiple)"
      ],
      "metadata": {
        "colab": {
          "base_uri": "https://localhost:8080/"
        },
        "id": "VPo3bmaqLVHU",
        "outputId": "035d07b4-5e90-4045-b183-927d237ba562"
      },
      "execution_count": null,
      "outputs": [
        {
          "output_type": "stream",
          "name": "stdout",
          "text": [
            "14\n",
            "6\n",
            "40\n"
          ]
        }
      ]
    },
    {
      "cell_type": "markdown",
      "source": [
        "# 입력 값이 몇 개가 될 지 모를 때\n",
        "입력 값의 개수가 정해져 있지 않다면?\n",
        "\n",
        "*args를 이용하자\n",
        "\n",
        "이해 난이도 높음"
      ],
      "metadata": {
        "id": "wJ4o_2gLLlHP"
      }
    },
    {
      "cell_type": "code",
      "source": [
        "# 입력값의 개수를 세는 함수를 만들고 싶다면\n",
        "\n",
        "def counting (*args):\n",
        "  count = 0\n",
        "  for i in args:\n",
        "    count = count + 1\n",
        "  return count\n",
        "\n",
        "\n",
        "print(counting(0,0,0,0,0,0,0,0))\n",
        "print(counting(1,3,21,421,4,214,21,4,214,12))"
      ],
      "metadata": {
        "colab": {
          "base_uri": "https://localhost:8080/"
        },
        "id": "LxUev34fL0D4",
        "outputId": "23281dcf-b765-4e88-d3d1-0dda8da7ae73"
      },
      "execution_count": null,
      "outputs": [
        {
          "output_type": "stream",
          "name": "stdout",
          "text": [
            "8\n",
            "10\n"
          ]
        }
      ]
    },
    {
      "cell_type": "code",
      "source": [
        "def show_args(*args):\n",
        "  return (args)\n",
        "\n",
        "print(show_args(1, 2, 3, 4))"
      ],
      "metadata": {
        "colab": {
          "base_uri": "https://localhost:8080/"
        },
        "id": "CrfJb04PyipP",
        "outputId": "1be9a6b5-5444-440b-b18c-0b7956c7a695"
      },
      "execution_count": null,
      "outputs": [
        {
          "output_type": "stream",
          "name": "stdout",
          "text": [
            "(1, 2, 3, 4)\n"
          ]
        }
      ]
    },
    {
      "cell_type": "code",
      "source": [
        "# 입력값을 모두 더하는 함수를 만들고 싶다면\n",
        "\n",
        "def adding (*args):\n",
        "  result = 0\n",
        "  for i in args:\n",
        "    result += i\n",
        "  return result\n",
        "\n",
        "print(adding(1,2,3,4,5))\n",
        "print(adding(3,2,2,2,2,2,2,2,21,1,6,9))"
      ],
      "metadata": {
        "colab": {
          "base_uri": "https://localhost:8080/"
        },
        "id": "jfL8a52lMPFV",
        "outputId": "35523e0c-f032-4cea-cc9b-d0cf5af9a436"
      },
      "execution_count": null,
      "outputs": [
        {
          "output_type": "stream",
          "name": "stdout",
          "text": [
            "15\n",
            "54\n"
          ]
        }
      ]
    },
    {
      "cell_type": "markdown",
      "source": [
        "# 함수의 매개변수 지정\n",
        "미리 함수의 매개변수를 지정하거나\n",
        "\n",
        "인수를 특정 매개변수로 지정가능"
      ],
      "metadata": {
        "id": "4OjwWAEjMv3n"
      }
    },
    {
      "cell_type": "code",
      "source": [
        "def adding (a, b=3):\n",
        "  return a + b\n",
        "\n",
        "\n",
        "print(adding(5))\n",
        "print(adding(6, 10))"
      ],
      "metadata": {
        "colab": {
          "base_uri": "https://localhost:8080/"
        },
        "id": "d3iX7ZAKM8WW",
        "outputId": "bf3edfde-4c93-4a97-947c-7385edec5c99"
      },
      "execution_count": null,
      "outputs": [
        {
          "output_type": "stream",
          "name": "stdout",
          "text": [
            "8\n",
            "16\n"
          ]
        }
      ]
    },
    {
      "cell_type": "code",
      "source": [
        "def subtract (a, b):\n",
        "  return a - b\n",
        "\n",
        "\n",
        "print(subtract(5, 1))\n",
        "print(subtract(b=5, a=1))"
      ],
      "metadata": {
        "colab": {
          "base_uri": "https://localhost:8080/"
        },
        "id": "QtEmkjBTNbtb",
        "outputId": "66ac95a2-ef22-483b-8539-6172d24ac4b7"
      },
      "execution_count": null,
      "outputs": [
        {
          "output_type": "stream",
          "name": "stdout",
          "text": [
            "4\n",
            "-4\n"
          ]
        }
      ]
    },
    {
      "cell_type": "markdown",
      "source": [
        "# 임의 함수 lambda\n",
        "함수명 = lambda 매개변수1, 매개변수2, ... : 매개변수를 이용한 표현식\n",
        "\n",
        "def 사용하지 않아도 될 정도로 간단하거나 def를 사용할 수 없는 곳에 사용"
      ],
      "metadata": {
        "id": "kubO5FWCOF08"
      }
    },
    {
      "cell_type": "code",
      "source": [
        "adding = lambda a, b: a + b\n",
        "\n",
        "print(adding(1, 2))"
      ],
      "metadata": {
        "colab": {
          "base_uri": "https://localhost:8080/"
        },
        "id": "gpJm1DQWOJm0",
        "outputId": "1846437a-8adf-48b2-845c-1d7714639752"
      },
      "execution_count": null,
      "outputs": [
        {
          "output_type": "stream",
          "name": "stdout",
          "text": [
            "3\n"
          ]
        }
      ]
    },
    {
      "cell_type": "markdown",
      "source": [
        "lambda로 만든 함수는 return 명령어가 없어도 결과값을 리턴"
      ],
      "metadata": {
        "id": "yq8yl5_WOfxg"
      }
    },
    {
      "cell_type": "code",
      "source": [
        "args_adding = lambda *args: sum(args)"
      ],
      "metadata": {
        "id": "4TrjmzpbObL6"
      },
      "execution_count": null,
      "outputs": []
    },
    {
      "cell_type": "code",
      "source": [
        "print(args_adding(1,23,3,4,4,5,2,523,53,25,32,532,5))"
      ],
      "metadata": {
        "colab": {
          "base_uri": "https://localhost:8080/"
        },
        "id": "q2lpKyNxPFwm",
        "outputId": "2108b39a-7ecd-41a8-e336-0691822b209d"
      },
      "execution_count": null,
      "outputs": [
        {
          "output_type": "stream",
          "name": "stdout",
          "text": [
            "1212\n"
          ]
        }
      ]
    },
    {
      "cell_type": "markdown",
      "source": [
        "# 백준 문제 풀이\n",
        "정수 N개의 합 [15596] : https://www.acmicpc.net/problem/15596\n",
        "\n",
        "셀프 넘버 [4673] : https://www.acmicpc.net/problem/4673\n"
      ],
      "metadata": {
        "id": "KfGbIZ5udemn"
      }
    }
  ]
}