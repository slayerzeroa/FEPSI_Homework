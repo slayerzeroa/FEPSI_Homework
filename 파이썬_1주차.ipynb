{
  "cells": [
    {
      "cell_type": "markdown",
      "metadata": {
        "id": "pIQstkXcvVQg"
      },
      "source": [
        "### 파이썬 자료형\n",
        "\n",
        "숫자형: int, float\n",
        "\n",
        "문자열: str\n",
        "\n",
        "리스트: list\n",
        "\n",
        "집합: set\n",
        "\n",
        "딕셔너리: dict\n",
        "\n",
        "Boolean: True or False"
      ]
    },
    {
      "cell_type": "markdown",
      "metadata": {
        "id": "ZjcDjv3cQBv_"
      },
      "source": [
        "### 파이썬에서 변수 선언은 '='을 이용한다\n",
        "\n",
        "a = 3\n",
        "\n",
        "b = 2\n",
        "\n",
        "a+b\n",
        "=> 5\n",
        "\n",
        "\n",
        "### 자료형 별 선언 방식\n",
        "\n",
        "int: a = 3 or a = int(3)\n",
        "\n",
        "float: a = 3.0 or a = float(3)\n",
        "\n",
        "str: a = '안녕?' or a = \"안녕?\"\n",
        "\n",
        "list: a = [1, 2, 3]\n",
        "\n",
        "set: a = (1, 2, 3)\n",
        "\n",
        "dict: a = {1: '가', 2: '나', 3: '다'}\n",
        "\n",
        "boolean: a = True or a = False"
      ]
    },
    {
      "cell_type": "code",
      "execution_count": 11,
      "metadata": {
        "colab": {
          "base_uri": "https://localhost:8080/"
        },
        "id": "mBYY-SMSQNRr",
        "outputId": "3cc8826e-3355-4962-e211-5e03c5246807"
      },
      "outputs": [
        {
          "name": "stdout",
          "output_type": "stream",
          "text": [
            "5\n"
          ]
        }
      ],
      "source": [
        "a = 3\n",
        "b = 2\n",
        "\n",
        "print(a+b)"
      ]
    },
    {
      "cell_type": "code",
      "execution_count": 12,
      "metadata": {
        "colab": {
          "base_uri": "https://localhost:8080/"
        },
        "id": "lkbfm_XfwSiO",
        "outputId": "77c61d7a-92cf-4ce2-91ed-e04fb5bb8f17"
      },
      "outputs": [
        {
          "name": "stdout",
          "output_type": "stream",
          "text": [
            "나는 사람이다.\n"
          ]
        }
      ],
      "source": [
        "a = \"나는 사람이다.\"\n",
        "print(a)"
      ]
    },
    {
      "cell_type": "code",
      "execution_count": 13,
      "metadata": {
        "colab": {
          "base_uri": "https://localhost:8080/"
        },
        "id": "_PaI6xpEUAIa",
        "outputId": "5bb8262d-042c-4843-8a31-a7e9b6cf88f4"
      },
      "outputs": [
        {
          "name": "stdout",
          "output_type": "stream",
          "text": [
            "나는 생각한다.고로케 먹고 싶다.\n"
          ]
        }
      ],
      "source": [
        "a = '나는 생각한다.'\n",
        "b = '고로케 먹고 싶다.'\n",
        "\n",
        "print(a + b)"
      ]
    },
    {
      "cell_type": "markdown",
      "metadata": {
        "id": "DMkSHeKFXHjq"
      },
      "source": [
        "### 자료형 확인\n",
        "\n",
        "type() 함수"
      ]
    },
    {
      "cell_type": "code",
      "execution_count": 14,
      "metadata": {
        "id": "bWNHx-2pXFIg"
      },
      "outputs": [],
      "source": [
        "a = 1\n",
        "b = '1'"
      ]
    },
    {
      "cell_type": "code",
      "execution_count": 17,
      "metadata": {
        "colab": {
          "base_uri": "https://localhost:8080/",
          "height": 245
        },
        "id": "sEX8GYlqXLVL",
        "outputId": "7eba6f11-900e-48ce-cb95-bc0395a463cd"
      },
      "outputs": [
        {
          "name": "stdout",
          "output_type": "stream",
          "text": [
            "1\n",
            "1\n"
          ]
        },
        {
          "ename": "TypeError",
          "evalue": "unsupported operand type(s) for +: 'int' and 'str'",
          "output_type": "error",
          "traceback": [
            "\u001b[0;31m---------------------------------------------------------------------------\u001b[0m",
            "\u001b[0;31mTypeError\u001b[0m                                 Traceback (most recent call last)",
            "Cell \u001b[0;32mIn[17], line 3\u001b[0m\n\u001b[1;32m      1\u001b[0m \u001b[39mprint\u001b[39m(a)\n\u001b[1;32m      2\u001b[0m \u001b[39mprint\u001b[39m(b)\n\u001b[0;32m----> 3\u001b[0m \u001b[39mprint\u001b[39m(a\u001b[39m+\u001b[39;49mb) \u001b[39m# 에러 발생 (자료형이 다르기 때문에 더하기 불가)\u001b[39;00m\n",
            "\u001b[0;31mTypeError\u001b[0m: unsupported operand type(s) for +: 'int' and 'str'"
          ]
        }
      ],
      "source": [
        "print(a)\n",
        "print(b)\n",
        "print(a+b) # 에러 발생 (자료형이 다르기 때문에 더하기 불가)"
      ]
    },
    {
      "cell_type": "code",
      "execution_count": 18,
      "metadata": {
        "colab": {
          "base_uri": "https://localhost:8080/"
        },
        "id": "OdKW4fuzXROf",
        "outputId": "fba2f01c-e50e-4ae0-a67b-a87a25e014b8"
      },
      "outputs": [
        {
          "name": "stdout",
          "output_type": "stream",
          "text": [
            "<class 'int'>\n",
            "<class 'str'>\n"
          ]
        }
      ],
      "source": [
        "print(type(a))\n",
        "print(type(b))"
      ]
    },
    {
      "cell_type": "markdown",
      "metadata": {
        "id": "i7dBCAsyQVii"
      },
      "source": [
        "### 연산자\n",
        "\n",
        "|수학 연산자|파이썬|기능|\n",
        "|------|---|---|\n",
        "|+|+|더하기|\n",
        "|-|-|빼기|\n",
        "|×|*|곱하기|\n",
        "|÷|/|나누기|\n",
        "|q|//|몫|\n",
        "|mod|%|나머지|\n",
        "||divmod()|몫과 나머지|\n",
        "|＝|==|등호 (변수 선언과 다름!!)|\n",
        "|≠|!=|같지 않다 (True or False 리턴)|\n",
        "|<, >|<, >|부등호|\n",
        "|≤, ≥|<=, >=|부등호|\n",
        "|2², 3²|2\\**2, 3**2|제곱|\n",
        "|root(2)|2**(1/2)|제곱근|\n",
        "|( )|( )|괄호|"
      ]
    },
    {
      "cell_type": "code",
      "execution_count": 19,
      "metadata": {
        "id": "CBkzJCkDyLaT"
      },
      "outputs": [],
      "source": [
        "a = 3\n",
        "b = 8"
      ]
    },
    {
      "cell_type": "code",
      "execution_count": 20,
      "metadata": {
        "colab": {
          "base_uri": "https://localhost:8080/"
        },
        "id": "xVcV27wXy-dJ",
        "outputId": "2167cf2d-260b-4c50-fa5e-d90799438564"
      },
      "outputs": [
        {
          "data": {
            "text/plain": [
              "11"
            ]
          },
          "execution_count": 20,
          "metadata": {},
          "output_type": "execute_result"
        }
      ],
      "source": [
        "a + b"
      ]
    },
    {
      "cell_type": "code",
      "execution_count": 21,
      "metadata": {
        "colab": {
          "base_uri": "https://localhost:8080/"
        },
        "id": "HFos88wxy_hN",
        "outputId": "17ef9767-8f5e-4523-c3fb-1e4daec3702d"
      },
      "outputs": [
        {
          "data": {
            "text/plain": [
              "24"
            ]
          },
          "execution_count": 21,
          "metadata": {},
          "output_type": "execute_result"
        }
      ],
      "source": [
        "a * b # 곱하기"
      ]
    },
    {
      "cell_type": "code",
      "execution_count": 22,
      "metadata": {
        "colab": {
          "base_uri": "https://localhost:8080/"
        },
        "id": "4wglTss3zALB",
        "outputId": "3ed38815-ca20-45ab-880c-428ee62ee44f"
      },
      "outputs": [
        {
          "data": {
            "text/plain": [
              "0.375"
            ]
          },
          "execution_count": 22,
          "metadata": {},
          "output_type": "execute_result"
        }
      ],
      "source": [
        "a / b # 나누기"
      ]
    },
    {
      "cell_type": "code",
      "execution_count": 23,
      "metadata": {
        "colab": {
          "base_uri": "https://localhost:8080/"
        },
        "id": "asi7MOJWzA-k",
        "outputId": "f3561fea-e5fb-4819-b0ae-64f3c663d9cc"
      },
      "outputs": [
        {
          "data": {
            "text/plain": [
              "2"
            ]
          },
          "execution_count": 23,
          "metadata": {},
          "output_type": "execute_result"
        }
      ],
      "source": [
        "b // 3 # 몫"
      ]
    },
    {
      "cell_type": "code",
      "execution_count": 24,
      "metadata": {
        "colab": {
          "base_uri": "https://localhost:8080/"
        },
        "id": "D68FXNBmzCC1",
        "outputId": "ed5fb187-b5a1-433a-9c44-23ed143fcd98"
      },
      "outputs": [
        {
          "data": {
            "text/plain": [
              "3"
            ]
          },
          "execution_count": 24,
          "metadata": {},
          "output_type": "execute_result"
        }
      ],
      "source": [
        "a % b # 나머지"
      ]
    },
    {
      "cell_type": "code",
      "execution_count": 25,
      "metadata": {
        "colab": {
          "base_uri": "https://localhost:8080/"
        },
        "id": "hd8WoQOfzPmD",
        "outputId": "96aebf6b-2783-4239-8fe0-e5b28a3b8e23"
      },
      "outputs": [
        {
          "data": {
            "text/plain": [
              "6561"
            ]
          },
          "execution_count": 25,
          "metadata": {},
          "output_type": "execute_result"
        }
      ],
      "source": [
        "a ** b # 제곱"
      ]
    },
    {
      "cell_type": "code",
      "execution_count": 26,
      "metadata": {
        "colab": {
          "base_uri": "https://localhost:8080/"
        },
        "id": "eJIhPvQ7UMXq",
        "outputId": "0deeaa17-01e5-49d8-ea80-6573ee3b1e50"
      },
      "outputs": [
        {
          "data": {
            "text/plain": [
              "False"
            ]
          },
          "execution_count": 26,
          "metadata": {},
          "output_type": "execute_result"
        }
      ],
      "source": [
        "a == b"
      ]
    },
    {
      "cell_type": "code",
      "execution_count": 27,
      "metadata": {
        "colab": {
          "base_uri": "https://localhost:8080/"
        },
        "id": "bwcJYb7sUOjo",
        "outputId": "9fc60cf3-9670-46d1-b104-b4e7ee09b61f"
      },
      "outputs": [
        {
          "data": {
            "text/plain": [
              "True"
            ]
          },
          "execution_count": 27,
          "metadata": {},
          "output_type": "execute_result"
        }
      ],
      "source": [
        "a != b"
      ]
    },
    {
      "cell_type": "code",
      "execution_count": 28,
      "metadata": {
        "colab": {
          "base_uri": "https://localhost:8080/"
        },
        "id": "_TtXXAT4UQu3",
        "outputId": "8382b64c-2396-4d15-b3b0-aca16b965f17"
      },
      "outputs": [
        {
          "data": {
            "text/plain": [
              "False"
            ]
          },
          "execution_count": 28,
          "metadata": {},
          "output_type": "execute_result"
        }
      ],
      "source": [
        "a > b"
      ]
    },
    {
      "cell_type": "code",
      "execution_count": 29,
      "metadata": {
        "colab": {
          "base_uri": "https://localhost:8080/"
        },
        "id": "Pm9SYOT2UQ0q",
        "outputId": "02bb6732-1cf1-4549-c325-83e1bc33253d"
      },
      "outputs": [
        {
          "data": {
            "text/plain": [
              "True"
            ]
          },
          "execution_count": 29,
          "metadata": {},
          "output_type": "execute_result"
        }
      ],
      "source": [
        "a < b"
      ]
    },
    {
      "cell_type": "markdown",
      "metadata": {
        "id": "6zkzO4fzT0mm"
      },
      "source": [
        "### List\n",
        "\n",
        "변수를 선형적으로 저장하는 자료형\n",
        "\n",
        "[ ]로 묶어 표현"
      ]
    },
    {
      "cell_type": "code",
      "execution_count": 30,
      "metadata": {
        "id": "SOXk_25RzfcJ"
      },
      "outputs": [],
      "source": [
        "a = ['a', 'b', 'c', 'd']"
      ]
    },
    {
      "cell_type": "code",
      "execution_count": 31,
      "metadata": {
        "colab": {
          "base_uri": "https://localhost:8080/"
        },
        "id": "CBUsWz5pzWVA",
        "outputId": "383ffd9a-28da-46a7-935b-2d2c42b1dbb1"
      },
      "outputs": [
        {
          "name": "stdout",
          "output_type": "stream",
          "text": [
            "['a', 'b', 'c', 'd']\n"
          ]
        }
      ],
      "source": [
        "print(a)"
      ]
    },
    {
      "cell_type": "code",
      "execution_count": 32,
      "metadata": {
        "id": "-kYZYKIRzk92"
      },
      "outputs": [],
      "source": [
        "a = ['나는', '사과가', '좋다', '.']"
      ]
    },
    {
      "cell_type": "code",
      "execution_count": 33,
      "metadata": {
        "colab": {
          "base_uri": "https://localhost:8080/"
        },
        "id": "bVJDrXamzt_b",
        "outputId": "1a130253-1a1f-4993-85a8-68649e89afe3"
      },
      "outputs": [
        {
          "name": "stdout",
          "output_type": "stream",
          "text": [
            "['나는', '사과가', '좋다', '.']\n"
          ]
        }
      ],
      "source": [
        "print(a)"
      ]
    },
    {
      "cell_type": "code",
      "execution_count": 34,
      "metadata": {
        "id": "C8rQatApUsuu"
      },
      "outputs": [],
      "source": [
        "a = [1, 2]\n",
        "b = [3, 4]"
      ]
    },
    {
      "cell_type": "code",
      "execution_count": 35,
      "metadata": {
        "colab": {
          "base_uri": "https://localhost:8080/"
        },
        "id": "by-TKRXP0hC3",
        "outputId": "c00c77d8-9efd-4524-eeb9-7891a3173d0a"
      },
      "outputs": [
        {
          "name": "stdout",
          "output_type": "stream",
          "text": [
            "[1, 2]\n"
          ]
        }
      ],
      "source": [
        "print(a)"
      ]
    },
    {
      "cell_type": "code",
      "execution_count": 36,
      "metadata": {
        "colab": {
          "base_uri": "https://localhost:8080/"
        },
        "id": "ynKl97ap0i3D",
        "outputId": "a26cf741-47fa-4dbf-9e43-8c62c79b0df2"
      },
      "outputs": [
        {
          "name": "stdout",
          "output_type": "stream",
          "text": [
            "[3, 4]\n"
          ]
        }
      ],
      "source": [
        "print(b)"
      ]
    },
    {
      "cell_type": "markdown",
      "metadata": {
        "id": "KBPpqblKUzj3"
      },
      "source": [
        "### 리스트 원소 접근 (인덱싱)\n",
        "\n",
        "리스트의 원소에 인덱싱으로 접근이 가능하다\n",
        "\n",
        "리스트명[인덱스 번호]로 접근할 수 있다\n",
        "\n",
        "이때, 파이썬은 인덱스 번호가 0부터 시작!!!!!!!!!!!!!!!!!!!!!!!"
      ]
    },
    {
      "cell_type": "code",
      "execution_count": 37,
      "metadata": {
        "id": "qDfgl0yW0mEi"
      },
      "outputs": [],
      "source": [
        "a = [1, 3, 2, 4]"
      ]
    },
    {
      "cell_type": "code",
      "execution_count": 38,
      "metadata": {
        "colab": {
          "base_uri": "https://localhost:8080/"
        },
        "id": "ioc-X3Uu0nop",
        "outputId": "1e8fd66f-475e-433f-eff6-4d9fd23e5856"
      },
      "outputs": [
        {
          "data": {
            "text/plain": [
              "1"
            ]
          },
          "execution_count": 38,
          "metadata": {},
          "output_type": "execute_result"
        }
      ],
      "source": [
        "a[0]"
      ]
    },
    {
      "cell_type": "code",
      "execution_count": 39,
      "metadata": {
        "colab": {
          "base_uri": "https://localhost:8080/"
        },
        "id": "d2gFqe_BVEUO",
        "outputId": "fd28513a-e2b2-4e15-fb0c-647f9e3b9d73"
      },
      "outputs": [
        {
          "data": {
            "text/plain": [
              "3"
            ]
          },
          "execution_count": 39,
          "metadata": {},
          "output_type": "execute_result"
        }
      ],
      "source": [
        "a[1]"
      ]
    },
    {
      "cell_type": "code",
      "execution_count": 40,
      "metadata": {
        "colab": {
          "base_uri": "https://localhost:8080/"
        },
        "id": "KUc_FqMjVFzx",
        "outputId": "1e25b9dd-5bb2-47c8-e143-ed958267e30b"
      },
      "outputs": [
        {
          "data": {
            "text/plain": [
              "2"
            ]
          },
          "execution_count": 40,
          "metadata": {},
          "output_type": "execute_result"
        }
      ],
      "source": [
        "a[2]"
      ]
    },
    {
      "cell_type": "code",
      "execution_count": 41,
      "metadata": {
        "colab": {
          "base_uri": "https://localhost:8080/"
        },
        "id": "fctY0VZoVKWf",
        "outputId": "38b939e4-b515-45d7-bebd-30d662133fba"
      },
      "outputs": [
        {
          "data": {
            "text/plain": [
              "4"
            ]
          },
          "execution_count": 41,
          "metadata": {},
          "output_type": "execute_result"
        }
      ],
      "source": [
        "a[3]"
      ]
    },
    {
      "cell_type": "code",
      "execution_count": 42,
      "metadata": {
        "colab": {
          "base_uri": "https://localhost:8080/"
        },
        "id": "Pg0SPAgnVKf6",
        "outputId": "99bd3590-36a7-41cc-d89a-60798d97ba5b"
      },
      "outputs": [
        {
          "data": {
            "text/plain": [
              "4"
            ]
          },
          "execution_count": 42,
          "metadata": {},
          "output_type": "execute_result"
        }
      ],
      "source": [
        "a[-1]"
      ]
    },
    {
      "cell_type": "code",
      "execution_count": 43,
      "metadata": {
        "colab": {
          "base_uri": "https://localhost:8080/"
        },
        "id": "Sb8FevkfVM0s",
        "outputId": "681ec19d-f0f7-4391-e820-408746a2b295"
      },
      "outputs": [
        {
          "data": {
            "text/plain": [
              "2"
            ]
          },
          "execution_count": 43,
          "metadata": {},
          "output_type": "execute_result"
        }
      ],
      "source": [
        "a[-2]"
      ]
    },
    {
      "cell_type": "code",
      "execution_count": 44,
      "metadata": {
        "colab": {
          "base_uri": "https://localhost:8080/"
        },
        "id": "X8EaFQ8YVNoD",
        "outputId": "2841d2d5-497e-4c08-d10b-740c2bff9bfd"
      },
      "outputs": [
        {
          "data": {
            "text/plain": [
              "3"
            ]
          },
          "execution_count": 44,
          "metadata": {},
          "output_type": "execute_result"
        }
      ],
      "source": [
        "a[-3]"
      ]
    },
    {
      "cell_type": "code",
      "execution_count": 45,
      "metadata": {
        "colab": {
          "base_uri": "https://localhost:8080/"
        },
        "id": "27lJh3cqVOqV",
        "outputId": "d12ef1a8-0aba-4e98-838a-b51e33d301b6"
      },
      "outputs": [
        {
          "data": {
            "text/plain": [
              "1"
            ]
          },
          "execution_count": 45,
          "metadata": {},
          "output_type": "execute_result"
        }
      ],
      "source": [
        "a[-4]"
      ]
    },
    {
      "cell_type": "code",
      "execution_count": 46,
      "metadata": {
        "colab": {
          "base_uri": "https://localhost:8080/"
        },
        "id": "66RS4sDrVRhg",
        "outputId": "7fb74bc3-8a17-400e-e80a-1021a7bb98ae"
      },
      "outputs": [
        {
          "data": {
            "text/plain": [
              "10"
            ]
          },
          "execution_count": 46,
          "metadata": {},
          "output_type": "execute_result"
        }
      ],
      "source": [
        "a[0] + a[1] + a[2] +a[3]"
      ]
    },
    {
      "cell_type": "markdown",
      "metadata": {
        "id": "wo4AkVORVWN5"
      },
      "source": [
        "### 리스트 원소 추가 및 삭제\n",
        "\n",
        "append() : 리스트 맨 뒤에 원소 추가\n",
        "\n",
        "pop() : 리스트 맨 뒤 원소 추출\n",
        "\n",
        "del : 인덱싱 번호의 원소 삭제, But, 가급적 사용 자제\n",
        "\n",
        "insert() : 인덱싱 번호에 원소 삽입, But, 가급적 사용 자제"
      ]
    },
    {
      "cell_type": "code",
      "execution_count": 47,
      "metadata": {
        "colab": {
          "base_uri": "https://localhost:8080/"
        },
        "id": "h9lFciN_VoW0",
        "outputId": "2c378a38-c132-4c24-f35f-79cd519a9ae2"
      },
      "outputs": [
        {
          "name": "stdout",
          "output_type": "stream",
          "text": [
            "[1, 2, 3]\n"
          ]
        }
      ],
      "source": [
        "a = [1, 2, 3]\n",
        "print(a)"
      ]
    },
    {
      "cell_type": "code",
      "execution_count": 48,
      "metadata": {
        "id": "mGjFqS4jVpoF"
      },
      "outputs": [],
      "source": [
        "a.append(4)"
      ]
    },
    {
      "cell_type": "code",
      "execution_count": 49,
      "metadata": {
        "colab": {
          "base_uri": "https://localhost:8080/"
        },
        "id": "mfsZ9mRWVrnV",
        "outputId": "ce0de287-bf85-4851-b0c6-82d0a3e3c863"
      },
      "outputs": [
        {
          "name": "stdout",
          "output_type": "stream",
          "text": [
            "[1, 2, 3, 4]\n"
          ]
        }
      ],
      "source": [
        "print(a)"
      ]
    },
    {
      "cell_type": "code",
      "execution_count": 50,
      "metadata": {
        "colab": {
          "base_uri": "https://localhost:8080/"
        },
        "id": "oEMJLgEQWAty",
        "outputId": "a772832c-22fa-435d-b018-4820312dec03"
      },
      "outputs": [
        {
          "name": "stdout",
          "output_type": "stream",
          "text": [
            "4\n",
            "[1, 2, 3]\n"
          ]
        }
      ],
      "source": [
        "b = a.pop()\n",
        "print(b)\n",
        "\n",
        "print(a)"
      ]
    },
    {
      "cell_type": "code",
      "execution_count": 51,
      "metadata": {
        "colab": {
          "base_uri": "https://localhost:8080/"
        },
        "id": "rZl35g_IWG4l",
        "outputId": "c9c713ba-df1d-40a4-836d-5e93bf8f9966"
      },
      "outputs": [
        {
          "name": "stdout",
          "output_type": "stream",
          "text": [
            "[2, 3]\n"
          ]
        }
      ],
      "source": [
        "del a[0]\n",
        "print(a)"
      ]
    },
    {
      "cell_type": "code",
      "execution_count": 52,
      "metadata": {
        "colab": {
          "base_uri": "https://localhost:8080/"
        },
        "id": "rtOoYi2CWPjk",
        "outputId": "bfb5c8a7-1bef-42fb-86cb-bd83878e0900"
      },
      "outputs": [
        {
          "name": "stdout",
          "output_type": "stream",
          "text": [
            "[1, 2, 3]\n"
          ]
        }
      ],
      "source": [
        "a.insert(0, 1)\n",
        "print(a)"
      ]
    },
    {
      "cell_type": "code",
      "execution_count": 53,
      "metadata": {
        "id": "EtdHlnEj000z"
      },
      "outputs": [],
      "source": [
        "a.sort(reverse=True)"
      ]
    },
    {
      "cell_type": "markdown",
      "metadata": {
        "id": "JiNJOh2QWVti"
      },
      "source": [
        "### 리스트 길이 확인 및 정렬\n",
        "\n",
        "len 함수를 이용해 리스트 길이 확인\n",
        "\n",
        "sort 함수를 이용해 정렬"
      ]
    },
    {
      "cell_type": "code",
      "execution_count": 54,
      "metadata": {
        "id": "jxeTd4jNWiCG"
      },
      "outputs": [],
      "source": [
        "a = [1, 3, 4, 2]"
      ]
    },
    {
      "cell_type": "code",
      "execution_count": 55,
      "metadata": {
        "colab": {
          "base_uri": "https://localhost:8080/"
        },
        "id": "TPuv4NDO1nD9",
        "outputId": "c920a917-eeda-4ec3-981f-54fb58fcbe64"
      },
      "outputs": [
        {
          "name": "stdout",
          "output_type": "stream",
          "text": [
            "4\n",
            "2\n"
          ]
        }
      ],
      "source": [
        "list_length= len(a)\n",
        "\n",
        "print(list_length)\n",
        "\n",
        "print(a[list_length-1])"
      ]
    },
    {
      "cell_type": "code",
      "execution_count": 56,
      "metadata": {
        "colab": {
          "base_uri": "https://localhost:8080/"
        },
        "id": "02cP4_kTWms8",
        "outputId": "0632d0ff-eb39-4bc4-ac66-de218307dfc1"
      },
      "outputs": [
        {
          "name": "stdout",
          "output_type": "stream",
          "text": [
            "[1, 2, 3, 4]\n"
          ]
        }
      ],
      "source": [
        "a.sort()\n",
        "print(a)"
      ]
    },
    {
      "cell_type": "code",
      "execution_count": 57,
      "metadata": {
        "colab": {
          "base_uri": "https://localhost:8080/"
        },
        "id": "WKxBAK_eWs52",
        "outputId": "1869c082-04f3-4e9e-ad93-7df7b592ce93"
      },
      "outputs": [
        {
          "name": "stdout",
          "output_type": "stream",
          "text": [
            "[4, 3, 2, 1]\n"
          ]
        }
      ],
      "source": [
        "a.sort(reverse=True)\n",
        "print(a)"
      ]
    },
    {
      "cell_type": "code",
      "execution_count": 58,
      "metadata": {
        "colab": {
          "base_uri": "https://localhost:8080/"
        },
        "id": "0FV0I2RYWxnB",
        "outputId": "e791a02a-b5b1-4f2d-9b34-5c984883a627"
      },
      "outputs": [
        {
          "name": "stdout",
          "output_type": "stream",
          "text": [
            "[4, 3, 2, 1, 0]\n"
          ]
        }
      ],
      "source": [
        "a.append(0)\n",
        "print(a)"
      ]
    },
    {
      "cell_type": "code",
      "execution_count": 59,
      "metadata": {
        "colab": {
          "base_uri": "https://localhost:8080/"
        },
        "id": "MNESFwozWz98",
        "outputId": "0159c0df-c2f6-4d9c-cdde-f84defc05e2b"
      },
      "outputs": [
        {
          "name": "stdout",
          "output_type": "stream",
          "text": [
            "[0, 1, 2, 3, 4]\n"
          ]
        }
      ],
      "source": [
        "a.sort()\n",
        "print(a)"
      ]
    },
    {
      "cell_type": "markdown",
      "metadata": {
        "id": "lhLOz4m_W97F"
      },
      "source": [
        "### map 함수\n",
        "리스트 내 원소 모두에 특정 함수 적용"
      ]
    },
    {
      "cell_type": "code",
      "execution_count": 64,
      "metadata": {
        "colab": {
          "base_uri": "https://localhost:8080/"
        },
        "id": "8rOhJRYa2B-J",
        "outputId": "c39ecc8d-a993-4ca3-b1a6-02ea23363e19"
      },
      "outputs": [],
      "source": [
        "# 실행 시 입력창 나옴 -> 1 2 3 4 5 입력 해보세요\n",
        "a = list(map(int, input().split()))"
      ]
    },
    {
      "cell_type": "code",
      "execution_count": 65,
      "metadata": {
        "colab": {
          "base_uri": "https://localhost:8080/"
        },
        "id": "0xyieY4M21X7",
        "outputId": "0c2def97-da7a-4652-89a0-01f553a5c09d"
      },
      "outputs": [
        {
          "name": "stdout",
          "output_type": "stream",
          "text": [
            "[1, 2, 3, 4, 5]\n"
          ]
        }
      ],
      "source": [
        "print(a)"
      ]
    },
    {
      "cell_type": "code",
      "execution_count": 66,
      "metadata": {
        "id": "-tKgiObM24yN"
      },
      "outputs": [],
      "source": [
        "a = \"1 2\".split()"
      ]
    },
    {
      "cell_type": "code",
      "execution_count": 67,
      "metadata": {
        "colab": {
          "base_uri": "https://localhost:8080/"
        },
        "id": "wz_u2WNR3Cy0",
        "outputId": "08c90eee-7968-43e6-f267-8b1319bba872"
      },
      "outputs": [
        {
          "data": {
            "text/plain": [
              "['1', '2']"
            ]
          },
          "execution_count": 67,
          "metadata": {},
          "output_type": "execute_result"
        }
      ],
      "source": [
        "a"
      ]
    },
    {
      "cell_type": "code",
      "execution_count": 68,
      "metadata": {
        "colab": {
          "base_uri": "https://localhost:8080/"
        },
        "id": "SrC-zuST3LHl",
        "outputId": "52141c92-2c70-4fa1-b328-799a5e01b9ec"
      },
      "outputs": [
        {
          "data": {
            "text/plain": [
              "[1, 2]"
            ]
          },
          "execution_count": 68,
          "metadata": {},
          "output_type": "execute_result"
        }
      ],
      "source": [
        "list(map(int, a))"
      ]
    },
    {
      "cell_type": "markdown",
      "metadata": {
        "id": "GlhEchAiXXbT"
      },
      "source": [
        "### 숙제 1.\n",
        "##### 미래가치를 현재가치로 구하는 식은 다음과 같다.\n",
        "![image.png](data:image/png;base64,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)\n",
        "\n",
        "\n",
        "#### 10년 뒤 100만원의 현재가치를 구하시오\n",
        "#### 이때 연이율은 10%로 동일하다고 가정"
      ]
    },
    {
      "cell_type": "code",
      "execution_count": null,
      "metadata": {
        "id": "EthVObU0Zesj"
      },
      "outputs": [],
      "source": [
        "# Write Your Code\n",
        "\n"
      ]
    },
    {
      "cell_type": "markdown",
      "metadata": {
        "id": "ZJbLBO1_YlQb"
      },
      "source": [
        "### 숙제 2.\n",
        "#### 아래 Cash Flow 표의 현재가치 합을 구하시오\n",
        "#### 이때 연이율은 5%로 동일하다고 가정\n",
        "\n",
        "|T = 0|1|2|3|4|\n",
        "|------|---|---|---|---|\n",
        "|-10000|3000|2000|4000|5000|\n",
        "\n",
        "표의 의미: 현재 10000을 투자하여 4년간 3000, 2000, 4000, 5000의 Cash Flow를 획득"
      ]
    },
    {
      "cell_type": "code",
      "execution_count": 70,
      "metadata": {
        "id": "QCcuEzDIZMWB"
      },
      "outputs": [],
      "source": [
        "# Write Your Code\n",
        "\n"
      ]
    },
    {
      "cell_type": "markdown",
      "metadata": {
        "id": "thoROr_IdSWR"
      },
      "source": [
        "### 숙제 3.\n",
        "#### 포트폴리오의 Sharpe Ratio를 구하시오\n",
        "\n",
        "#### Rp(포트폴리오 수익률) = 10%\n",
        "\n",
        "#### Rf(무위험 이자율) = 3%\n",
        "\n",
        "#### sigma p(포트폴리오의 변동성) = 4% \n",
        "\n",
        "![image.png](data:image/png;base64,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)"
      ]
    },
    {
      "cell_type": "code",
      "execution_count": null,
      "metadata": {
        "id": "P8587Cm7dcP4"
      },
      "outputs": [],
      "source": [
        "# Write Your Code\n"
      ]
    }
  ],
  "metadata": {
    "colab": {
      "provenance": []
    },
    "kernelspec": {
      "display_name": "Python 3",
      "name": "python3"
    },
    "language_info": {
      "codemirror_mode": {
        "name": "ipython",
        "version": 3
      },
      "file_extension": ".py",
      "mimetype": "text/x-python",
      "name": "python",
      "nbconvert_exporter": "python",
      "pygments_lexer": "ipython3",
      "version": "3.10.8"
    }
  },
  "nbformat": 4,
  "nbformat_minor": 0
}
