{
  "nbformat": 4,
  "nbformat_minor": 0,
  "metadata": {
    "colab": {
      "provenance": []
    },
    "kernelspec": {
      "name": "python3",
      "display_name": "Python 3"
    },
    "language_info": {
      "name": "python"
    }
  },
  "cells": [
    {
      "cell_type": "markdown",
      "source": [
        "# 파이썬 2주차: 리스트, 딕셔너리, 반복문, 조건문"
      ],
      "metadata": {
        "id": "Vc1MNyKHccNB"
      }
    },
    {
      "cell_type": "markdown",
      "source": [
        "List = [1, 2, 3]\n",
        "Dictionary = {'가':1, '나':2, '다':3}\n",
        "\n",
        "쌍"
      ],
      "metadata": {
        "id": "q689n93mQWUy"
      }
    },
    {
      "cell_type": "code",
      "source": [
        "list_a = [1,2,3]\n",
        "dict_a = {'가':1, '나':2, '다':3}"
      ],
      "metadata": {
        "id": "Zua2FkP2QXR2"
      },
      "execution_count": null,
      "outputs": []
    },
    {
      "cell_type": "code",
      "source": [
        "# list_a 에서 1을 추출하라\n",
        "print(list_a[0])"
      ],
      "metadata": {
        "colab": {
          "base_uri": "https://localhost:8080/"
        },
        "id": "01SM25omQoIL",
        "outputId": "9db8219e-1356-4dc8-957e-845f8526a4f8"
      },
      "execution_count": null,
      "outputs": [
        {
          "output_type": "stream",
          "name": "stdout",
          "text": [
            "1\n"
          ]
        }
      ]
    },
    {
      "cell_type": "code",
      "source": [
        "# dict_a 에서 1을 추출하라\n",
        "print(dict_a['가'])"
      ],
      "metadata": {
        "colab": {
          "base_uri": "https://localhost:8080/"
        },
        "id": "UZYE1h5gQuTw",
        "outputId": "8653206c-d832-4b84-cbde-b6e3bf69dd24"
      },
      "execution_count": null,
      "outputs": [
        {
          "output_type": "stream",
          "name": "stdout",
          "text": [
            "1\n"
          ]
        }
      ]
    },
    {
      "cell_type": "markdown",
      "source": [
        "#Dictionary == 사전\n",
        "\n",
        "{'apple': '사과', 'ball': '공'}\n",
        "\n",
        "apple, ball == key\n",
        "\n",
        "사과, 공 == value"
      ],
      "metadata": {
        "id": "RMp8Qp5qQ1Vw"
      }
    },
    {
      "cell_type": "code",
      "source": [
        "english_dict = {'apple': '사과', 'ball': '공'}"
      ],
      "metadata": {
        "id": "GAKuzKkTQzJX"
      },
      "execution_count": null,
      "outputs": []
    },
    {
      "cell_type": "code",
      "source": [
        "print(english_dict['apple'])"
      ],
      "metadata": {
        "colab": {
          "base_uri": "https://localhost:8080/"
        },
        "id": "JzT5nF8pRQpG",
        "outputId": "dae4dd9f-e206-4605-bb80-1f10bd36a32c"
      },
      "execution_count": null,
      "outputs": [
        {
          "output_type": "stream",
          "name": "stdout",
          "text": [
            "사과\n"
          ]
        }
      ]
    },
    {
      "cell_type": "code",
      "source": [
        "# 모든 key 값을 구하려면?\n",
        "print(english_dict.keys())\n",
        "\n",
        "# 모든 value 값을 구하려면?\n",
        "print(english_dict.values())\n",
        "\n",
        "# 모든 key-value 쌍을 구하려면?\n",
        "print(english_dict.items())"
      ],
      "metadata": {
        "colab": {
          "base_uri": "https://localhost:8080/"
        },
        "id": "Mw0iGMjMRUtg",
        "outputId": "817954b3-6c91-4f14-951b-57cd0c2b2149"
      },
      "execution_count": null,
      "outputs": [
        {
          "output_type": "stream",
          "name": "stdout",
          "text": [
            "dict_keys(['apple', 'ball'])\n",
            "dict_values(['사과', '공'])\n",
            "dict_items([('apple', '사과'), ('ball', '공')])\n"
          ]
        }
      ]
    },
    {
      "cell_type": "code",
      "source": [
        "# 'mango': '망고'를 추가하고 싶다면?\n",
        "print('before dict: ', english_dict)\n",
        "\n",
        "english_dict['mango'] = '망고'\n",
        "print('after dict: ', english_dict)"
      ],
      "metadata": {
        "colab": {
          "base_uri": "https://localhost:8080/"
        },
        "id": "G9M6pnoVRb8j",
        "outputId": "9a8dc2b5-3498-40fa-bf3a-bf16ac603a43"
      },
      "execution_count": null,
      "outputs": [
        {
          "output_type": "stream",
          "name": "stdout",
          "text": [
            "before dict:  {'apple': '사과', 'ball': '공'}\n",
            "after dict:  {'apple': '사과', 'ball': '공', 'mango': '망고'}\n"
          ]
        }
      ]
    },
    {
      "cell_type": "code",
      "source": [
        "# 'mango': '망고'를 빼고 싶다면?\n",
        "print('before dict: ', english_dict)\n",
        "\n",
        "english_dict.pop('mango')\n",
        "print('after dict: ', english_dict)"
      ],
      "metadata": {
        "colab": {
          "base_uri": "https://localhost:8080/"
        },
        "id": "SriXPrG3SR1N",
        "outputId": "5e3cd8fc-69d8-4ecc-d2ad-336075100986"
      },
      "execution_count": null,
      "outputs": [
        {
          "output_type": "stream",
          "name": "stdout",
          "text": [
            "before dict:  {'apple': '사과', 'ball': '공', 'mango': '망고'}\n",
            "after dict:  {'apple': '사과', 'ball': '공'}\n"
          ]
        }
      ]
    },
    {
      "cell_type": "code",
      "source": [
        "# list append, pop 함수\n",
        "# C언어 리스트 비스무리 -> 자료형 통일 보통은은\n",
        "\n",
        "list_a = [1, 2, 3]\n",
        "print('original : ', list_a)\n",
        "\n",
        "list_a.append(4)\n",
        "print('2nd : ', list_a)\n",
        "\n",
        "list_a.pop(0)\n",
        "print('3rd : ', list_a)"
      ],
      "metadata": {
        "colab": {
          "base_uri": "https://localhost:8080/"
        },
        "id": "INeRzDxxdy48",
        "outputId": "45199192-5878-4d44-edf8-fd938d88ec3c"
      },
      "execution_count": null,
      "outputs": [
        {
          "output_type": "stream",
          "name": "stdout",
          "text": [
            "original :  [1, 2, 3]\n",
            "2nd :  [1, 2, 3, 4]\n",
            "3rd :  [2, 3, 4]\n"
          ]
        }
      ]
    },
    {
      "cell_type": "code",
      "source": [
        "# value 안에 어떤 자료형이든 들어갈 수 있다\n",
        "list_dict = {1: [1,2,3], 2: [3,4,5]}\n",
        "dict_dict = {1: {1:2, 2:3}, 2: {3:4, 5:6}}\n",
        "\n",
        "print(list_dict[1])\n",
        "print(dict_dict[1])"
      ],
      "metadata": {
        "colab": {
          "base_uri": "https://localhost:8080/"
        },
        "id": "dMWuVEv0VfmY",
        "outputId": "ace3257c-ee0e-4455-833c-d4be3b63f02f"
      },
      "execution_count": null,
      "outputs": [
        {
          "output_type": "stream",
          "name": "stdout",
          "text": [
            "[1, 2, 3]\n",
            "{1: 2, 2: 3}\n"
          ]
        }
      ]
    },
    {
      "cell_type": "markdown",
      "source": [
        "# 반복문\n",
        "컴퓨터 프로그래밍의 가장 핵심적인 기능이다.\n",
        "\n",
        "우리는 고반복해야 하는 일을 컴퓨터에 맡길 수 있다."
      ],
      "metadata": {
        "id": "kXRH9JtaS6mN"
      }
    },
    {
      "cell_type": "markdown",
      "source": [
        "#Python의 반복문\n",
        "- while문\n",
        "- for문"
      ],
      "metadata": {
        "id": "VXuPb9qQTJZS"
      }
    },
    {
      "cell_type": "code",
      "source": [
        "# while문\n",
        "idx = 0\n",
        "while idx < 10:\n",
        "  print(idx)\n",
        "  idx+=1"
      ],
      "metadata": {
        "colab": {
          "base_uri": "https://localhost:8080/"
        },
        "id": "ThfyBavCTNbU",
        "outputId": "ebf1a705-f811-4655-8e91-2282e463f18c"
      },
      "execution_count": null,
      "outputs": [
        {
          "output_type": "stream",
          "name": "stdout",
          "text": [
            "0\n",
            "1\n",
            "2\n",
            "3\n",
            "4\n",
            "5\n",
            "6\n",
            "7\n",
            "8\n",
            "9\n"
          ]
        }
      ]
    },
    {
      "cell_type": "code",
      "source": [
        "# for문\n",
        "for i in range(10):\n",
        "  print(i)"
      ],
      "metadata": {
        "colab": {
          "base_uri": "https://localhost:8080/"
        },
        "id": "jgaXo0XoTchB",
        "outputId": "1c36d6b8-d0c0-4413-eb00-bed5ec1dba8c"
      },
      "execution_count": null,
      "outputs": [
        {
          "output_type": "stream",
          "name": "stdout",
          "text": [
            "0\n",
            "1\n",
            "2\n",
            "3\n",
            "4\n",
            "5\n",
            "6\n",
            "7\n",
            "8\n",
            "9\n"
          ]
        }
      ]
    },
    {
      "cell_type": "markdown",
      "source": [
        "#while문 문법\n",
        "\n",
        "while (조건):\n",
        "\n",
        "&nbsp;&nbsp;&nbsp;&nbsp;&nbsp;  (반복할 내용)\n",
        "\n",
        "<br>\n",
        "※조건이 True이면 while문의 내용을 실행한다"
      ],
      "metadata": {
        "id": "Wn9rGNUfTjho"
      }
    },
    {
      "cell_type": "code",
      "source": [
        "# 문제 1: 아래 while문의 결과는?\n",
        "\n",
        "a = 0\n",
        "while a > 0:\n",
        "  a = a + 1\n",
        "  print(a)"
      ],
      "metadata": {
        "id": "tIyUtCFZUJOD"
      },
      "execution_count": null,
      "outputs": []
    },
    {
      "cell_type": "code",
      "source": [
        "# 문제 2: 아래 while문의 결과는?\n",
        "\n",
        "a = 1\n",
        "while a < 10:\n",
        "  a = a * 2\n",
        "  print(a)"
      ],
      "metadata": {
        "id": "PQV4_eu8UgCq",
        "colab": {
          "base_uri": "https://localhost:8080/"
        },
        "outputId": "9490c621-8f60-4525-e16d-e245699b3285"
      },
      "execution_count": null,
      "outputs": [
        {
          "output_type": "stream",
          "name": "stdout",
          "text": [
            "2\n",
            "4\n",
            "8\n",
            "16\n"
          ]
        }
      ]
    },
    {
      "cell_type": "code",
      "source": [
        "# while문을 강제로 멈추고 싶다면?\n",
        "idx = 0\n",
        "while True:\n",
        "  print(idx)\n",
        "  idx = idx + 1\n",
        "  if idx > 3:\n",
        "    break"
      ],
      "metadata": {
        "colab": {
          "base_uri": "https://localhost:8080/"
        },
        "id": "PVJNU6ZaU1Q5",
        "outputId": "811f279f-366b-4840-fcf6-dc951eead09a"
      },
      "execution_count": null,
      "outputs": [
        {
          "output_type": "stream",
          "name": "stdout",
          "text": [
            "0\n",
            "1\n",
            "2\n",
            "3\n"
          ]
        }
      ]
    },
    {
      "cell_type": "markdown",
      "source": [
        "while문은 가장 기초적인 반복문이지만 Python에서는 많이 쓰이지 않음\n",
        "\n",
        "-> Python스럽지 않음"
      ],
      "metadata": {
        "id": "lJQkfbUUWVBS"
      }
    },
    {
      "cell_type": "markdown",
      "source": [
        "#for문 문법\n",
        "for 변수 in 리스트(또는 튜플, 문자열):\n",
        " \n",
        " &nbsp;&nbsp;&nbsp;&nbsp;   (수행할 문장)\n",
        "\n",
        "<br>\n",
        "in 뒤에 나오는 변수가 sequence여야 함(list, tuple, 문자열처럼 인덱싱이 가능한 것)"
      ],
      "metadata": {
        "id": "gSqtINTmWiCO"
      }
    },
    {
      "cell_type": "code",
      "source": [
        "#문제 3: 아래 for문의 결과는?\n",
        "for i in 3:\n",
        "  print(i)"
      ],
      "metadata": {
        "id": "D_IA69aRU_6U",
        "colab": {
          "base_uri": "https://localhost:8080/",
          "height": 209
        },
        "outputId": "461a7d0a-17bf-4111-e8cc-bb66da279aa1"
      },
      "execution_count": null,
      "outputs": [
        {
          "output_type": "error",
          "ename": "TypeError",
          "evalue": "ignored",
          "traceback": [
            "\u001b[0;31m---------------------------------------------------------------------------\u001b[0m",
            "\u001b[0;31mTypeError\u001b[0m                                 Traceback (most recent call last)",
            "\u001b[0;32m<ipython-input-37-863b5f222a88>\u001b[0m in \u001b[0;36m<module>\u001b[0;34m\u001b[0m\n\u001b[1;32m      1\u001b[0m \u001b[0;31m#문제 3: 아래 for문의 결과는?\u001b[0m\u001b[0;34m\u001b[0m\u001b[0;34m\u001b[0m\u001b[0;34m\u001b[0m\u001b[0m\n\u001b[0;32m----> 2\u001b[0;31m \u001b[0;32mfor\u001b[0m \u001b[0mi\u001b[0m \u001b[0;32min\u001b[0m \u001b[0;36m3\u001b[0m\u001b[0;34m:\u001b[0m\u001b[0;34m\u001b[0m\u001b[0;34m\u001b[0m\u001b[0m\n\u001b[0m\u001b[1;32m      3\u001b[0m   \u001b[0mprint\u001b[0m\u001b[0;34m(\u001b[0m\u001b[0mi\u001b[0m\u001b[0;34m)\u001b[0m\u001b[0;34m\u001b[0m\u001b[0;34m\u001b[0m\u001b[0m\n",
            "\u001b[0;31mTypeError\u001b[0m: 'int' object is not iterable"
          ]
        }
      ]
    },
    {
      "cell_type": "code",
      "source": [
        "#문제 4: 아래 for문의 결과는?\n",
        "for j in [1, 2, 3]:\n",
        "  print(j)"
      ],
      "metadata": {
        "id": "NHuvejgjXGPU",
        "colab": {
          "base_uri": "https://localhost:8080/"
        },
        "outputId": "76eb217c-2a5a-4205-c833-7216f7937614"
      },
      "execution_count": null,
      "outputs": [
        {
          "output_type": "stream",
          "name": "stdout",
          "text": [
            "1\n",
            "2\n",
            "3\n"
          ]
        }
      ]
    },
    {
      "cell_type": "code",
      "source": [
        "# for문과 자주 함께 쓰이는 함수 range\n",
        "\n",
        "for i in range(3):\n",
        "  print(i)\n",
        "\n",
        "# range(10) == [0, 1, 2, 3, 4, 5, 6, 7, 8, 9]"
      ],
      "metadata": {
        "colab": {
          "base_uri": "https://localhost:8080/"
        },
        "id": "AF5bZKSHXQ_4",
        "outputId": "f625a309-5d52-4925-a312-99707849ab12"
      },
      "execution_count": null,
      "outputs": [
        {
          "output_type": "stream",
          "name": "stdout",
          "text": [
            "0\n",
            "1\n",
            "2\n"
          ]
        }
      ]
    },
    {
      "cell_type": "code",
      "source": [
        "# for문 안의 이중 for문\n",
        "# 이중 for문은 시간복잡도가 O(n^2)이 되어 비효율적\n",
        "\n",
        "for i in range(3):\n",
        "  for j in range(2):\n",
        "    print(j)"
      ],
      "metadata": {
        "colab": {
          "base_uri": "https://localhost:8080/"
        },
        "id": "oDHs2s86Xd6u",
        "outputId": "ebd343ac-5360-4396-d12b-9b5a1206a872"
      },
      "execution_count": null,
      "outputs": [
        {
          "output_type": "stream",
          "name": "stdout",
          "text": [
            "0\n",
            "1\n",
            "0\n",
            "1\n",
            "0\n",
            "1\n"
          ]
        }
      ]
    },
    {
      "cell_type": "code",
      "source": [
        "# for문과 list, dict의 이용\n",
        "\n",
        "list_a = []\n",
        "for i in range(10):\n",
        "  list_a.append(i)\n",
        "print(list_a)\n",
        "\n",
        "\n",
        "dict_a = {}\n",
        "for i in range(10):\n",
        "  dict_a[i] = chr(ord('a')+i)\n",
        "print(dict_a)"
      ],
      "metadata": {
        "colab": {
          "base_uri": "https://localhost:8080/"
        },
        "id": "wkslecwmXwPW",
        "outputId": "1f996f95-5cab-4269-cb2d-f753e80a6823"
      },
      "execution_count": null,
      "outputs": [
        {
          "output_type": "stream",
          "name": "stdout",
          "text": [
            "[0, 1, 2, 3, 4, 5, 6, 7, 8, 9]\n",
            "{0: 'a', 1: 'b', 2: 'c', 3: 'd', 4: 'e', 5: 'f', 6: 'g', 7: 'h', 8: 'i', 9: 'j'}\n"
          ]
        }
      ]
    },
    {
      "cell_type": "code",
      "source": [
        "# list, dict를 for문으로 값 가져오기\n",
        "for i in list_a:\n",
        "  print(i)"
      ],
      "metadata": {
        "colab": {
          "base_uri": "https://localhost:8080/"
        },
        "id": "W_QBXXvxYPPZ",
        "outputId": "d1e2a99a-4ac7-47c9-c747-9e6772748ad2"
      },
      "execution_count": null,
      "outputs": [
        {
          "output_type": "stream",
          "name": "stdout",
          "text": [
            "0\n",
            "1\n",
            "2\n",
            "3\n",
            "4\n",
            "5\n",
            "6\n",
            "7\n",
            "8\n",
            "9\n"
          ]
        }
      ]
    },
    {
      "cell_type": "code",
      "source": [
        "# dict를 그냥 넣으면 i는 key값을 출력\n",
        "for i in dict_a:\n",
        "  print(i)"
      ],
      "metadata": {
        "colab": {
          "base_uri": "https://localhost:8080/"
        },
        "id": "G4Dcq3sNY_mj",
        "outputId": "9cc96198-3edc-444c-d797-4cf37196f9ff"
      },
      "execution_count": null,
      "outputs": [
        {
          "output_type": "stream",
          "name": "stdout",
          "text": [
            "0\n",
            "1\n",
            "2\n",
            "3\n",
            "4\n",
            "5\n",
            "6\n",
            "7\n",
            "8\n",
            "9\n"
          ]
        }
      ]
    },
    {
      "cell_type": "code",
      "source": [
        "# dict의 내장함수 items()를 이용하여 key, value 가져오기\n",
        "# dict_a.items() == dict_items([(0, 'a'), (1:'b'), ....])\n",
        "\n",
        "\n",
        "for key, value in dict_a.items():\n",
        "  print(key, value)"
      ],
      "metadata": {
        "colab": {
          "base_uri": "https://localhost:8080/"
        },
        "id": "x5Ahew2VZFJD",
        "outputId": "ed6f8153-731e-46c1-d38e-f501e53c9a93"
      },
      "execution_count": null,
      "outputs": [
        {
          "output_type": "stream",
          "name": "stdout",
          "text": [
            "0 a\n",
            "1 b\n",
            "2 c\n",
            "3 d\n",
            "4 e\n",
            "5 f\n",
            "6 g\n",
            "7 h\n",
            "8 i\n",
            "9 j\n"
          ]
        }
      ]
    },
    {
      "cell_type": "code",
      "source": [
        "# 심화: Pythonic한 리스트 생성\n",
        "\n",
        "list_a = [i for i in range(10)]\n",
        "\n",
        "print(list_a)"
      ],
      "metadata": {
        "colab": {
          "base_uri": "https://localhost:8080/"
        },
        "id": "TilEsaCtZSNu",
        "outputId": "d902b7d1-061d-40f0-a096-66c62399c29e"
      },
      "execution_count": null,
      "outputs": [
        {
          "output_type": "stream",
          "name": "stdout",
          "text": [
            "[0, 1, 2, 3, 4, 5, 6, 7, 8, 9]\n"
          ]
        }
      ]
    },
    {
      "cell_type": "code",
      "source": [
        "# enumerate, zip 함수\n",
        "# enumerate는 값과 값의 인덱스를 함께 출력해준다\n",
        "test_a = ['a', 'b', 'c']\n",
        "test_b = ['h', 'e', 'y']\n",
        "test_c = [1, 2, 3]\n",
        "\n",
        "for idx, value in enumerate(test_a): \n",
        "  print(idx, value)"
      ],
      "metadata": {
        "colab": {
          "base_uri": "https://localhost:8080/"
        },
        "id": "2ZR3YjpGZl4Q",
        "outputId": "e702649d-1f05-4a4b-9f61-412481d5b4ab"
      },
      "execution_count": null,
      "outputs": [
        {
          "output_type": "stream",
          "name": "stdout",
          "text": [
            "0 a\n",
            "1 b\n",
            "2 c\n"
          ]
        }
      ]
    },
    {
      "cell_type": "code",
      "source": [
        "# zip은 여러러 개의 리스트를 묶을 수 있다\n",
        "print(type(test_c[0]))\n",
        "\n",
        "for a, b, c in zip(test_a, test_b, test_c):\n",
        "  print(a, b, c)"
      ],
      "metadata": {
        "colab": {
          "base_uri": "https://localhost:8080/"
        },
        "id": "KG5pyAtAaD_a",
        "outputId": "5dca003f-181b-4dc6-e124-b322f0d9e91c"
      },
      "execution_count": null,
      "outputs": [
        {
          "output_type": "stream",
          "name": "stdout",
          "text": [
            "<class 'int'>\n",
            "a h 1\n",
            "1 type is <class 'int'>\n",
            "b e 2\n",
            "2 type is <class 'int'>\n",
            "c y 3\n",
            "3 type is <class 'int'>\n"
          ]
        }
      ]
    },
    {
      "cell_type": "code",
      "source": [
        "# 둘 다 쓸 수도 있다\n",
        "for idx, (a, b) in enumerate(zip(test_a, test_b)):\n",
        "  print(idx, (a, b))"
      ],
      "metadata": {
        "colab": {
          "base_uri": "https://localhost:8080/"
        },
        "id": "3pI3wpilaOCU",
        "outputId": "e90da648-974e-447b-cfe8-6d25e386ce80"
      },
      "execution_count": null,
      "outputs": [
        {
          "output_type": "stream",
          "name": "stdout",
          "text": [
            "0 ('a', 'h')\n",
            "1 ('b', 'e')\n",
            "2 ('c', 'y')\n"
          ]
        }
      ]
    },
    {
      "cell_type": "markdown",
      "source": [
        "# 조건문 if\n",
        "단순히 반복만 하면 컴퓨터는 무용지물이다 조건에 맞게 결과를 도출하고 싶다\n",
        "\n",
        "파이썬에서는 조건문 if를 통해 조건을 지정해준다"
      ],
      "metadata": {
        "id": "8lhqKP5Zaimh"
      }
    },
    {
      "cell_type": "markdown",
      "source": [
        "if 문법\n",
        "\n",
        "if (조건):\n",
        "\n",
        "&nbsp;&nbsp;&nbsp;(수행할 문장)\n",
        "\n",
        "※조건이 True이면 문장 수행"
      ],
      "metadata": {
        "id": "m0RunlEBa318"
      }
    },
    {
      "cell_type": "code",
      "source": [
        "if False:\n",
        "  print('가')\n",
        "\n",
        "if True:\n",
        "  print('나')"
      ],
      "metadata": {
        "colab": {
          "base_uri": "https://localhost:8080/"
        },
        "id": "9mvdDRT6a3Tu",
        "outputId": "75af4bf2-7bcf-41e3-eee8-a4403f3de938"
      },
      "execution_count": null,
      "outputs": [
        {
          "output_type": "stream",
          "name": "stdout",
          "text": [
            "나\n"
          ]
        }
      ]
    },
    {
      "cell_type": "code",
      "source": [
        "# 문제 5: 아래 코드의 결과는?\n",
        "\n",
        "if 'a' != 'b':\n",
        "  print('a')"
      ],
      "metadata": {
        "id": "kUzXXp2jbeyS",
        "colab": {
          "base_uri": "https://localhost:8080/"
        },
        "outputId": "d8f170f8-6317-45d9-c3e2-c29f60cca186"
      },
      "execution_count": null,
      "outputs": [
        {
          "output_type": "stream",
          "name": "stdout",
          "text": [
            "a\n"
          ]
        }
      ]
    },
    {
      "cell_type": "code",
      "source": [
        "# 반복문과 조건문의 조합\n",
        "a = 0\n",
        "while True:\n",
        "  print(a)\n",
        "  a+=1\n",
        "  if a > 3:\n",
        "    print('while문이 종료되었습니다.')\n",
        "    break\n"
      ],
      "metadata": {
        "colab": {
          "base_uri": "https://localhost:8080/"
        },
        "id": "McRMhJ6tbqIk",
        "outputId": "bcd7bdf0-166a-4f19-b1a6-21695e9d5abf"
      },
      "execution_count": null,
      "outputs": [
        {
          "output_type": "stream",
          "name": "stdout",
          "text": [
            "0\n",
            "1\n",
            "2\n",
            "3\n",
            "while문이 종료되었습니다.\n"
          ]
        }
      ]
    },
    {
      "cell_type": "code",
      "source": [
        "# 반복문과 조건문의 조합 2\n",
        "summation = 0\n",
        "for i in range(100):\n",
        "  if summation >= 55:\n",
        "    print('for문이 종료되었습니다.')\n",
        "    break\n",
        "  summation = summation + i\n",
        "  print(summation)"
      ],
      "metadata": {
        "colab": {
          "base_uri": "https://localhost:8080/"
        },
        "id": "_gwI_7Qcb4Ya",
        "outputId": "eee648bb-0346-48d8-aaf6-d23f9853b406"
      },
      "execution_count": null,
      "outputs": [
        {
          "output_type": "stream",
          "name": "stdout",
          "text": [
            "0\n",
            "1\n",
            "3\n",
            "6\n",
            "10\n",
            "15\n",
            "21\n",
            "28\n",
            "36\n",
            "45\n",
            "55\n",
            "for문이 종료되었습니다.\n"
          ]
        }
      ]
    },
    {
      "cell_type": "code",
      "source": [
        "# if와 else -> if문이 충족되지 않았다면 else문을 실행\n",
        "a = '나'\n",
        "if a != '나':\n",
        "  print('나는 바보다')\n",
        "else:\n",
        "  print('가는 바보다')"
      ],
      "metadata": {
        "colab": {
          "base_uri": "https://localhost:8080/"
        },
        "id": "BUSQRefkb7J1",
        "outputId": "23e0e831-b44e-4afe-9889-670b224c3d69"
      },
      "execution_count": null,
      "outputs": [
        {
          "output_type": "stream",
          "name": "stdout",
          "text": [
            "가는 바보다\n"
          ]
        }
      ]
    },
    {
      "cell_type": "code",
      "source": [
        "# 컴퓨터 근본 of 근본 boolean 0 or 1\n",
        "# 문제 6: 아래 코드의 결과는?\n",
        "a = True\n",
        "b = False\n",
        "\n",
        "if a == b:\n",
        "  print(False == a)\n",
        "else:\n",
        "  print(True == (b != a))"
      ],
      "metadata": {
        "id": "BvUTT4B1c1nY",
        "colab": {
          "base_uri": "https://localhost:8080/"
        },
        "outputId": "db49227f-1850-4ced-da2f-4deb742a89a8"
      },
      "execution_count": null,
      "outputs": [
        {
          "output_type": "stream",
          "name": "stdout",
          "text": [
            "True\n"
          ]
        }
      ]
    },
    {
      "cell_type": "markdown",
      "source": [
        "# 백준 문제 풀이\n",
        "A+B-3 [10950] : https://www.acmicpc.net/problem/10950\n",
        "\n",
        "합 [8393] : https://www.acmicpc.net/problem/8393\n",
        "\n",
        "시험 성적 [9498] : https://www.acmicpc.net/problem/9498\n",
        "\n"
      ],
      "metadata": {
        "id": "KfGbIZ5udemn"
      }
    }
  ]
}