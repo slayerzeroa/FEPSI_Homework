{
  "cells": [
    {
      "cell_type": "markdown",
      "metadata": {
        "id": "Vc1MNyKHccNB"
      },
      "source": [
        "### 파이썬 2주차: 리스트, 딕셔너리, 반복문, 조건문"
      ]
    },
    {
      "cell_type": "markdown",
      "metadata": {
        "id": "q689n93mQWUy"
      },
      "source": [
        "List = [1, 2, 3]\n",
        "\n",
        "Dictionary = {'가':1, '나':2, '다':3}\n",
        "\n",
        "원소들을 저장하는 저장공간이라고 생각!"
      ]
    },
    {
      "cell_type": "code",
      "execution_count": 1,
      "metadata": {
        "id": "Zua2FkP2QXR2"
      },
      "outputs": [],
      "source": [
        "list_a = [1,2,3]\n",
        "dict_a = {'가':1, '나':2, '다':3}"
      ]
    },
    {
      "cell_type": "code",
      "execution_count": 2,
      "metadata": {
        "colab": {
          "base_uri": "https://localhost:8080/"
        },
        "id": "01SM25omQoIL",
        "outputId": "9db8219e-1356-4dc8-957e-845f8526a4f8"
      },
      "outputs": [
        {
          "name": "stdout",
          "output_type": "stream",
          "text": [
            "1\n"
          ]
        }
      ],
      "source": [
        "# list_a 에서 1을 추출하라\n",
        "print(list_a[0])"
      ]
    },
    {
      "cell_type": "code",
      "execution_count": 3,
      "metadata": {
        "colab": {
          "base_uri": "https://localhost:8080/"
        },
        "id": "UZYE1h5gQuTw",
        "outputId": "8653206c-d832-4b84-cbde-b6e3bf69dd24"
      },
      "outputs": [
        {
          "name": "stdout",
          "output_type": "stream",
          "text": [
            "1\n"
          ]
        }
      ],
      "source": [
        "# dict_a 에서 1을 추출하라\n",
        "print(dict_a['가'])"
      ]
    },
    {
      "cell_type": "markdown",
      "metadata": {
        "id": "RMp8Qp5qQ1Vw"
      },
      "source": [
        "### Dictionary == 사전\n",
        "\n",
        "{'apple': '사과', 'ball': '공'}\n",
        "\n",
        "apple, ball == key\n",
        "\n",
        "사과, 공 == value\n",
        "\n",
        "\n",
        "Key값을 통해 Value값에 접근할 수 있다!"
      ]
    },
    {
      "cell_type": "code",
      "execution_count": 6,
      "metadata": {
        "id": "GAKuzKkTQzJX"
      },
      "outputs": [],
      "source": [
        "english_dict = {'apple': '사과', 'ball': '공'}"
      ]
    },
    {
      "cell_type": "code",
      "execution_count": 7,
      "metadata": {
        "colab": {
          "base_uri": "https://localhost:8080/"
        },
        "id": "JzT5nF8pRQpG",
        "outputId": "dae4dd9f-e206-4605-bb80-1f10bd36a32c"
      },
      "outputs": [
        {
          "name": "stdout",
          "output_type": "stream",
          "text": [
            "사과\n"
          ]
        }
      ],
      "source": [
        "print(english_dict['apple'])"
      ]
    },
    {
      "cell_type": "code",
      "execution_count": 8,
      "metadata": {
        "colab": {
          "base_uri": "https://localhost:8080/"
        },
        "id": "Mw0iGMjMRUtg",
        "outputId": "817954b3-6c91-4f14-951b-57cd0c2b2149"
      },
      "outputs": [
        {
          "name": "stdout",
          "output_type": "stream",
          "text": [
            "dict_keys(['apple', 'ball'])\n",
            "dict_values(['사과', '공'])\n",
            "dict_items([('apple', '사과'), ('ball', '공')])\n"
          ]
        }
      ],
      "source": [
        "# 모든 key 값을 구하려면?\n",
        "print(english_dict.keys())\n",
        "\n",
        "# 모든 value 값을 구하려면?\n",
        "print(english_dict.values())\n",
        "\n",
        "# 모든 key-value 쌍을 구하려면?\n",
        "print(english_dict.items())"
      ]
    },
    {
      "cell_type": "code",
      "execution_count": 9,
      "metadata": {
        "colab": {
          "base_uri": "https://localhost:8080/"
        },
        "id": "G9M6pnoVRb8j",
        "outputId": "9a8dc2b5-3498-40fa-bf3a-bf16ac603a43"
      },
      "outputs": [
        {
          "name": "stdout",
          "output_type": "stream",
          "text": [
            "before dict:  {'apple': '사과', 'ball': '공'}\n",
            "after dict:  {'apple': '사과', 'ball': '공', 'mango': '망고'}\n"
          ]
        }
      ],
      "source": [
        "# 'mango': '망고'를 추가하고 싶다면?\n",
        "print('before dict: ', english_dict)\n",
        "\n",
        "english_dict['mango'] = '망고'\n",
        "print('after dict: ', english_dict)"
      ]
    },
    {
      "cell_type": "code",
      "execution_count": 10,
      "metadata": {
        "colab": {
          "base_uri": "https://localhost:8080/"
        },
        "id": "SriXPrG3SR1N",
        "outputId": "5e3cd8fc-69d8-4ecc-d2ad-336075100986"
      },
      "outputs": [
        {
          "name": "stdout",
          "output_type": "stream",
          "text": [
            "before dict:  {'apple': '사과', 'ball': '공', 'mango': '망고'}\n",
            "after dict:  {'apple': '사과', 'ball': '공'}\n"
          ]
        }
      ],
      "source": [
        "# 'mango': '망고'를 빼고 싶다면?\n",
        "print('before dict: ', english_dict)\n",
        "\n",
        "english_dict.pop('mango')\n",
        "print('after dict: ', english_dict)"
      ]
    },
    {
      "cell_type": "code",
      "execution_count": 11,
      "metadata": {
        "colab": {
          "base_uri": "https://localhost:8080/"
        },
        "id": "INeRzDxxdy48",
        "outputId": "45199192-5878-4d44-edf8-fd938d88ec3c"
      },
      "outputs": [
        {
          "name": "stdout",
          "output_type": "stream",
          "text": [
            "original :  [1, 2, 3]\n",
            "2nd :  [1, 2, 3, 4]\n",
            "3rd :  [2, 3, 4]\n"
          ]
        }
      ],
      "source": [
        "# list append, pop 함수\n",
        "# C언어 리스트 비스무리 -> 자료형 통일 보통은\n",
        "\n",
        "list_a = [1, 2, 3]\n",
        "print('original : ', list_a)\n",
        "\n",
        "list_a.append(4)\n",
        "print('2nd : ', list_a)\n",
        "\n",
        "list_a.pop(0)\n",
        "print('3rd : ', list_a)"
      ]
    },
    {
      "cell_type": "code",
      "execution_count": 12,
      "metadata": {
        "colab": {
          "base_uri": "https://localhost:8080/"
        },
        "id": "dMWuVEv0VfmY",
        "outputId": "ace3257c-ee0e-4455-833c-d4be3b63f02f"
      },
      "outputs": [
        {
          "name": "stdout",
          "output_type": "stream",
          "text": [
            "[1, 2, 3]\n",
            "{1: 2, 2: 3}\n"
          ]
        }
      ],
      "source": [
        "# value 안에 어떤 자료형이든 들어갈 수 있다\n",
        "list_dict = {1: [1,2,3], 2: [3,4,5]}\n",
        "dict_dict = {1: {1:2, 2:3}, 2: {3:4, 5:6}}\n",
        "\n",
        "print(list_dict[1])\n",
        "print(dict_dict[1])"
      ]
    },
    {
      "cell_type": "markdown",
      "metadata": {
        "id": "kXRH9JtaS6mN"
      },
      "source": [
        "### 반복문\n",
        "컴퓨터 프로그래밍의 가장 핵심적인 기능이다.\n",
        "\n",
        "우리는 고반복해야 하는 일을 컴퓨터에 맡길 수 있다."
      ]
    },
    {
      "cell_type": "markdown",
      "metadata": {
        "id": "VXuPb9qQTJZS"
      },
      "source": [
        "### Python의 반복문\n",
        "- while문\n",
        "- for문"
      ]
    },
    {
      "cell_type": "code",
      "execution_count": 13,
      "metadata": {
        "colab": {
          "base_uri": "https://localhost:8080/"
        },
        "id": "ThfyBavCTNbU",
        "outputId": "ebf1a705-f811-4655-8e91-2282e463f18c"
      },
      "outputs": [
        {
          "name": "stdout",
          "output_type": "stream",
          "text": [
            "0\n",
            "1\n",
            "2\n",
            "3\n",
            "4\n",
            "5\n",
            "6\n",
            "7\n",
            "8\n",
            "9\n"
          ]
        }
      ],
      "source": [
        "# while문\n",
        "idx = 0\n",
        "while idx < 10:\n",
        "  print(idx)\n",
        "  idx+=1"
      ]
    },
    {
      "cell_type": "code",
      "execution_count": 14,
      "metadata": {
        "colab": {
          "base_uri": "https://localhost:8080/"
        },
        "id": "jgaXo0XoTchB",
        "outputId": "1c36d6b8-d0c0-4413-eb00-bed5ec1dba8c"
      },
      "outputs": [
        {
          "name": "stdout",
          "output_type": "stream",
          "text": [
            "0\n",
            "1\n",
            "2\n",
            "3\n",
            "4\n",
            "5\n",
            "6\n",
            "7\n",
            "8\n",
            "9\n"
          ]
        }
      ],
      "source": [
        "# for문\n",
        "for i in range(10):\n",
        "  print(i)"
      ]
    },
    {
      "cell_type": "markdown",
      "metadata": {
        "id": "Wn9rGNUfTjho"
      },
      "source": [
        "### while문 문법\n",
        "\n",
        "while (조건):\n",
        "\n",
        "&nbsp;&nbsp;&nbsp;&nbsp;&nbsp;  (반복할 내용)\n",
        "\n",
        "<br>\n",
        "※조건이 True이면 while문의 내용을 실행한다"
      ]
    },
    {
      "cell_type": "code",
      "execution_count": 15,
      "metadata": {
        "id": "tIyUtCFZUJOD"
      },
      "outputs": [],
      "source": [
        "# 문제 1: 아래 while문의 결과는?\n",
        "\n",
        "a = 0\n",
        "while a > 0:\n",
        "  a = a + 1\n",
        "  print(a)"
      ]
    },
    {
      "cell_type": "code",
      "execution_count": 16,
      "metadata": {
        "colab": {
          "base_uri": "https://localhost:8080/"
        },
        "id": "PQV4_eu8UgCq",
        "outputId": "9490c621-8f60-4525-e16d-e245699b3285"
      },
      "outputs": [
        {
          "name": "stdout",
          "output_type": "stream",
          "text": [
            "2\n",
            "4\n",
            "8\n",
            "16\n"
          ]
        }
      ],
      "source": [
        "# 문제 2: 아래 while문의 결과는?\n",
        "\n",
        "a = 1\n",
        "while a < 10:\n",
        "  a = a * 2\n",
        "  print(a)"
      ]
    },
    {
      "cell_type": "code",
      "execution_count": 17,
      "metadata": {
        "colab": {
          "base_uri": "https://localhost:8080/"
        },
        "id": "PVJNU6ZaU1Q5",
        "outputId": "811f279f-366b-4840-fcf6-dc951eead09a"
      },
      "outputs": [
        {
          "name": "stdout",
          "output_type": "stream",
          "text": [
            "0\n",
            "1\n",
            "2\n",
            "3\n"
          ]
        }
      ],
      "source": [
        "# while문을 강제로 멈추고 싶다면?\n",
        "idx = 0\n",
        "while True:\n",
        "  print(idx)\n",
        "  idx = idx + 1\n",
        "  if idx > 3:\n",
        "    break"
      ]
    },
    {
      "cell_type": "markdown",
      "metadata": {
        "id": "lJQkfbUUWVBS"
      },
      "source": [
        "while문은 가장 기초적인 반복문이지만 Python에서는 많이 쓰이지 않음\n",
        "\n",
        "-> Python스럽지 않음"
      ]
    },
    {
      "cell_type": "markdown",
      "metadata": {
        "id": "gSqtINTmWiCO"
      },
      "source": [
        "### for문 문법\n",
        "for 변수 in 리스트(또는 튜플, 문자열):\n",
        " \n",
        " &nbsp;&nbsp;&nbsp;&nbsp;   (수행할 문장)\n",
        "\n",
        "<br>\n",
        "in 뒤에 나오는 변수가 sequence여야 함(list, tuple, 문자열처럼 인덱싱이 가능한 것)"
      ]
    },
    {
      "cell_type": "code",
      "execution_count": 18,
      "metadata": {
        "colab": {
          "base_uri": "https://localhost:8080/",
          "height": 209
        },
        "id": "D_IA69aRU_6U",
        "outputId": "461a7d0a-17bf-4111-e8cc-bb66da279aa1"
      },
      "outputs": [
        {
          "ename": "TypeError",
          "evalue": "'int' object is not iterable",
          "output_type": "error",
          "traceback": [
            "\u001b[0;31m---------------------------------------------------------------------------\u001b[0m",
            "\u001b[0;31mTypeError\u001b[0m                                 Traceback (most recent call last)",
            "Cell \u001b[0;32mIn[18], line 2\u001b[0m\n\u001b[1;32m      1\u001b[0m \u001b[39m#문제 3: 아래 for문의 결과는?\u001b[39;00m\n\u001b[0;32m----> 2\u001b[0m \u001b[39mfor\u001b[39;00m i \u001b[39min\u001b[39;00m \u001b[39m3\u001b[39m:\n\u001b[1;32m      3\u001b[0m   \u001b[39mprint\u001b[39m(i)\n",
            "\u001b[0;31mTypeError\u001b[0m: 'int' object is not iterable"
          ]
        }
      ],
      "source": [
        "#문제 3: 아래 for문의 결과는?\n",
        "for i in 3:\n",
        "  print(i)"
      ]
    },
    {
      "cell_type": "code",
      "execution_count": 19,
      "metadata": {
        "colab": {
          "base_uri": "https://localhost:8080/"
        },
        "id": "NHuvejgjXGPU",
        "outputId": "76eb217c-2a5a-4205-c833-7216f7937614"
      },
      "outputs": [
        {
          "name": "stdout",
          "output_type": "stream",
          "text": [
            "1\n",
            "2\n",
            "3\n"
          ]
        }
      ],
      "source": [
        "#문제 4: 아래 for문의 결과는?\n",
        "for j in [1, 2, 3]:\n",
        "  print(j)"
      ]
    },
    {
      "cell_type": "code",
      "execution_count": 20,
      "metadata": {},
      "outputs": [
        {
          "name": "stdout",
          "output_type": "stream",
          "text": [
            "나\n",
            "는\n",
            " \n",
            "졸\n",
            "리\n",
            "다\n"
          ]
        }
      ],
      "source": [
        "#문제 5: 아래 for문의 결과는?\n",
        "a = '나는 졸리다'\n",
        "for i in a:\n",
        "    print(i)"
      ]
    },
    {
      "cell_type": "code",
      "execution_count": 21,
      "metadata": {
        "colab": {
          "base_uri": "https://localhost:8080/"
        },
        "id": "AF5bZKSHXQ_4",
        "outputId": "f625a309-5d52-4925-a312-99707849ab12"
      },
      "outputs": [
        {
          "name": "stdout",
          "output_type": "stream",
          "text": [
            "0\n",
            "1\n",
            "2\n"
          ]
        }
      ],
      "source": [
        "# for문과 자주 함께 쓰이는 함수 range\n",
        "\n",
        "for i in range(3):\n",
        "  print(i)\n",
        "\n",
        "# range(10) == [0, 1, 2, 3, 4, 5, 6, 7, 8, 9]"
      ]
    },
    {
      "cell_type": "code",
      "execution_count": 22,
      "metadata": {
        "colab": {
          "base_uri": "https://localhost:8080/"
        },
        "id": "oDHs2s86Xd6u",
        "outputId": "ebd343ac-5360-4396-d12b-9b5a1206a872"
      },
      "outputs": [
        {
          "name": "stdout",
          "output_type": "stream",
          "text": [
            "0\n",
            "1\n",
            "0\n",
            "1\n",
            "0\n",
            "1\n"
          ]
        }
      ],
      "source": [
        "# for문 안의 이중 for문\n",
        "# 이중 for문은 시간복잡도가 O(n^2)이 되어 비효율적\n",
        "\n",
        "for i in range(3):\n",
        "  for j in range(2):\n",
        "    print(j)"
      ]
    },
    {
      "cell_type": "code",
      "execution_count": 23,
      "metadata": {
        "colab": {
          "base_uri": "https://localhost:8080/"
        },
        "id": "wkslecwmXwPW",
        "outputId": "1f996f95-5cab-4269-cb2d-f753e80a6823"
      },
      "outputs": [
        {
          "name": "stdout",
          "output_type": "stream",
          "text": [
            "[0, 1, 2, 3, 4, 5, 6, 7, 8, 9]\n",
            "{0: 'a', 1: 'b', 2: 'c', 3: 'd', 4: 'e', 5: 'f', 6: 'g', 7: 'h', 8: 'i', 9: 'j'}\n"
          ]
        }
      ],
      "source": [
        "# for문과 list, dict의 이용\n",
        "\n",
        "list_a = []\n",
        "for i in range(10):\n",
        "  list_a.append(i)\n",
        "print(list_a)\n",
        "\n",
        "\n",
        "dict_a = {}\n",
        "for i in range(10):\n",
        "  dict_a[i] = chr(ord('a')+i)\n",
        "print(dict_a)"
      ]
    },
    {
      "cell_type": "code",
      "execution_count": 24,
      "metadata": {
        "colab": {
          "base_uri": "https://localhost:8080/"
        },
        "id": "W_QBXXvxYPPZ",
        "outputId": "d1e2a99a-4ac7-47c9-c747-9e6772748ad2"
      },
      "outputs": [
        {
          "name": "stdout",
          "output_type": "stream",
          "text": [
            "0\n",
            "1\n",
            "2\n",
            "3\n",
            "4\n",
            "5\n",
            "6\n",
            "7\n",
            "8\n",
            "9\n"
          ]
        }
      ],
      "source": [
        "# list, dict를 for문으로 값 가져오기\n",
        "for i in list_a:\n",
        "  print(i)"
      ]
    },
    {
      "cell_type": "code",
      "execution_count": 25,
      "metadata": {
        "colab": {
          "base_uri": "https://localhost:8080/"
        },
        "id": "G4Dcq3sNY_mj",
        "outputId": "9cc96198-3edc-444c-d797-4cf37196f9ff"
      },
      "outputs": [
        {
          "name": "stdout",
          "output_type": "stream",
          "text": [
            "0\n",
            "1\n",
            "2\n",
            "3\n",
            "4\n",
            "5\n",
            "6\n",
            "7\n",
            "8\n",
            "9\n"
          ]
        }
      ],
      "source": [
        "# dict를 그냥 넣으면 i는 key값을 출력\n",
        "for i in dict_a:\n",
        "  print(i)"
      ]
    },
    {
      "cell_type": "code",
      "execution_count": 26,
      "metadata": {
        "colab": {
          "base_uri": "https://localhost:8080/"
        },
        "id": "x5Ahew2VZFJD",
        "outputId": "ed6f8153-731e-46c1-d38e-f501e53c9a93"
      },
      "outputs": [
        {
          "name": "stdout",
          "output_type": "stream",
          "text": [
            "0 a\n",
            "1 b\n",
            "2 c\n",
            "3 d\n",
            "4 e\n",
            "5 f\n",
            "6 g\n",
            "7 h\n",
            "8 i\n",
            "9 j\n"
          ]
        }
      ],
      "source": [
        "# dict의 내장함수 items()를 이용하여 key, value 가져오기\n",
        "# dict_a.items() == dict_items([(0, 'a'), (1:'b'), ....])\n",
        "\n",
        "\n",
        "for key, value in dict_a.items():\n",
        "  print(key, value)"
      ]
    },
    {
      "cell_type": "code",
      "execution_count": 27,
      "metadata": {
        "colab": {
          "base_uri": "https://localhost:8080/"
        },
        "id": "TilEsaCtZSNu",
        "outputId": "d902b7d1-061d-40f0-a096-66c62399c29e"
      },
      "outputs": [
        {
          "name": "stdout",
          "output_type": "stream",
          "text": [
            "[0, 1, 2, 3, 4, 5, 6, 7, 8, 9]\n"
          ]
        }
      ],
      "source": [
        "# 심화: Pythonic한 리스트 생성\n",
        "\n",
        "list_a = [i for i in range(10)]\n",
        "\n",
        "print(list_a)"
      ]
    },
    {
      "cell_type": "code",
      "execution_count": 28,
      "metadata": {
        "colab": {
          "base_uri": "https://localhost:8080/"
        },
        "id": "2ZR3YjpGZl4Q",
        "outputId": "e702649d-1f05-4a4b-9f61-412481d5b4ab"
      },
      "outputs": [
        {
          "name": "stdout",
          "output_type": "stream",
          "text": [
            "0 a\n",
            "1 b\n",
            "2 c\n"
          ]
        }
      ],
      "source": [
        "# enumerate, zip 함수\n",
        "# enumerate는 값과 값의 인덱스를 함께 출력해준다\n",
        "test_a = ['a', 'b', 'c']\n",
        "test_b = ['h', 'e', 'y']\n",
        "test_c = [1, 2, 3]\n",
        "\n",
        "for idx, value in enumerate(test_a): \n",
        "  print(idx, value)"
      ]
    },
    {
      "cell_type": "code",
      "execution_count": 29,
      "metadata": {
        "colab": {
          "base_uri": "https://localhost:8080/"
        },
        "id": "KG5pyAtAaD_a",
        "outputId": "5dca003f-181b-4dc6-e124-b322f0d9e91c"
      },
      "outputs": [
        {
          "name": "stdout",
          "output_type": "stream",
          "text": [
            "<class 'int'>\n",
            "a h 1\n",
            "b e 2\n",
            "c y 3\n"
          ]
        }
      ],
      "source": [
        "# zip은 여러러 개의 리스트를 묶을 수 있다\n",
        "print(type(test_c[0]))\n",
        "\n",
        "for a, b, c in zip(test_a, test_b, test_c):\n",
        "  print(a, b, c)"
      ]
    },
    {
      "cell_type": "code",
      "execution_count": 30,
      "metadata": {
        "colab": {
          "base_uri": "https://localhost:8080/"
        },
        "id": "3pI3wpilaOCU",
        "outputId": "e90da648-974e-447b-cfe8-6d25e386ce80"
      },
      "outputs": [
        {
          "name": "stdout",
          "output_type": "stream",
          "text": [
            "0 ('a', 'h')\n",
            "1 ('b', 'e')\n",
            "2 ('c', 'y')\n"
          ]
        }
      ],
      "source": [
        "# 둘 다 쓸 수도 있다\n",
        "for idx, (a, b) in enumerate(zip(test_a, test_b)):\n",
        "  print(idx, (a, b))"
      ]
    },
    {
      "cell_type": "markdown",
      "metadata": {
        "id": "8lhqKP5Zaimh"
      },
      "source": [
        "### 조건문 if\n",
        "단순히 반복만 하면 컴퓨터는 무용지물이다 조건에 맞게 결과를 도출하고 싶다\n",
        "\n",
        "파이썬에서는 조건문 if를 통해 조건을 지정해준다"
      ]
    },
    {
      "cell_type": "markdown",
      "metadata": {
        "id": "m0RunlEBa318"
      },
      "source": [
        "### if 문법\n",
        "\n",
        "if (조건):\n",
        "\n",
        "&nbsp;&nbsp;&nbsp;(수행할 문장)\n",
        "\n",
        "※조건이 True이면 문장 수행"
      ]
    },
    {
      "cell_type": "code",
      "execution_count": 31,
      "metadata": {
        "colab": {
          "base_uri": "https://localhost:8080/"
        },
        "id": "9mvdDRT6a3Tu",
        "outputId": "75af4bf2-7bcf-41e3-eee8-a4403f3de938"
      },
      "outputs": [
        {
          "name": "stdout",
          "output_type": "stream",
          "text": [
            "나\n"
          ]
        }
      ],
      "source": [
        "if False:\n",
        "  print('가')\n",
        "\n",
        "if True:\n",
        "  print('나')"
      ]
    },
    {
      "cell_type": "code",
      "execution_count": 32,
      "metadata": {
        "colab": {
          "base_uri": "https://localhost:8080/"
        },
        "id": "kUzXXp2jbeyS",
        "outputId": "d8f170f8-6317-45d9-c3e2-c29f60cca186"
      },
      "outputs": [
        {
          "name": "stdout",
          "output_type": "stream",
          "text": [
            "a\n"
          ]
        }
      ],
      "source": [
        "# 문제 6: 아래 코드의 결과는?\n",
        "\n",
        "if 'a' != 'b':\n",
        "  print('a')"
      ]
    },
    {
      "cell_type": "code",
      "execution_count": 33,
      "metadata": {
        "colab": {
          "base_uri": "https://localhost:8080/"
        },
        "id": "McRMhJ6tbqIk",
        "outputId": "bcd7bdf0-166a-4f19-b1a6-21695e9d5abf"
      },
      "outputs": [
        {
          "name": "stdout",
          "output_type": "stream",
          "text": [
            "0\n",
            "1\n",
            "2\n",
            "3\n",
            "while문이 종료되었습니다.\n"
          ]
        }
      ],
      "source": [
        "# 반복문과 조건문의 조합\n",
        "a = 0\n",
        "while True:\n",
        "  print(a)\n",
        "  a+=1\n",
        "  if a > 3:\n",
        "    print('while문이 종료되었습니다.')\n",
        "    break\n"
      ]
    },
    {
      "cell_type": "code",
      "execution_count": 34,
      "metadata": {
        "colab": {
          "base_uri": "https://localhost:8080/"
        },
        "id": "_gwI_7Qcb4Ya",
        "outputId": "eee648bb-0346-48d8-aaf6-d23f9853b406"
      },
      "outputs": [
        {
          "name": "stdout",
          "output_type": "stream",
          "text": [
            "0\n",
            "1\n",
            "3\n",
            "6\n",
            "10\n",
            "15\n",
            "21\n",
            "28\n",
            "36\n",
            "45\n",
            "55\n",
            "for문이 종료되었습니다.\n"
          ]
        }
      ],
      "source": [
        "# 반복문과 조건문의 조합 2\n",
        "summation = 0\n",
        "for i in range(100):\n",
        "  if summation >= 55:\n",
        "    print('for문이 종료되었습니다.')\n",
        "    break\n",
        "  summation = summation + i\n",
        "  print(summation)"
      ]
    },
    {
      "cell_type": "code",
      "execution_count": 35,
      "metadata": {
        "colab": {
          "base_uri": "https://localhost:8080/"
        },
        "id": "BUSQRefkb7J1",
        "outputId": "23e0e831-b44e-4afe-9889-670b224c3d69"
      },
      "outputs": [
        {
          "name": "stdout",
          "output_type": "stream",
          "text": [
            "가는 바보다\n"
          ]
        }
      ],
      "source": [
        "# if와 else -> if문이 충족되지 않았다면 else문을 실행\n",
        "a = '나'\n",
        "if a != '나':\n",
        "  print('나는 바보다')\n",
        "else:\n",
        "  print('가는 바보다')"
      ]
    },
    {
      "cell_type": "code",
      "execution_count": 36,
      "metadata": {
        "colab": {
          "base_uri": "https://localhost:8080/"
        },
        "id": "BvUTT4B1c1nY",
        "outputId": "db49227f-1850-4ced-da2f-4deb742a89a8"
      },
      "outputs": [
        {
          "name": "stdout",
          "output_type": "stream",
          "text": [
            "True\n"
          ]
        }
      ],
      "source": [
        "# 컴퓨터 근본 of 근본 boolean 0 or 1\n",
        "# 문제 7: 아래 코드의 결과는?\n",
        "a = True\n",
        "b = False\n",
        "\n",
        "if a == b:\n",
        "  print(False == a)\n",
        "else:\n",
        "  print(True == (b != a))"
      ]
    },
    {
      "cell_type": "markdown",
      "metadata": {
        "id": "KfGbIZ5udemn"
      },
      "source": [
        "### 숙제: 백준 문제 풀이\n",
        "A+B-3 [10950] : https://www.acmicpc.net/problem/10950\n",
        "\n",
        "합 [8393] : https://www.acmicpc.net/problem/8393\n",
        "\n",
        "시험 성적 [9498] : https://www.acmicpc.net/problem/9498\n",
        "\n"
      ]
    },
    {
      "cell_type": "code",
      "execution_count": null,
      "metadata": {},
      "outputs": [],
      "source": [
        "# [10950] 풀이 코드 작성"
      ]
    },
    {
      "cell_type": "code",
      "execution_count": null,
      "metadata": {},
      "outputs": [],
      "source": [
        "# [8393] 풀이 코드 작성"
      ]
    },
    {
      "cell_type": "code",
      "execution_count": null,
      "metadata": {},
      "outputs": [],
      "source": [
        "# [9498] 풀이 코드 작성"
      ]
    }
  ],
  "metadata": {
    "colab": {
      "provenance": []
    },
    "kernelspec": {
      "display_name": "Python 3",
      "name": "python3"
    },
    "language_info": {
      "codemirror_mode": {
        "name": "ipython",
        "version": 3
      },
      "file_extension": ".py",
      "mimetype": "text/x-python",
      "name": "python",
      "nbconvert_exporter": "python",
      "pygments_lexer": "ipython3",
      "version": "3.10.8"
    }
  },
  "nbformat": 4,
  "nbformat_minor": 0
}
